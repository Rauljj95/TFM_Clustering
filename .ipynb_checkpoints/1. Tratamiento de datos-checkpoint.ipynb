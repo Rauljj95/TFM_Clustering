{
 "cells": [
  {
   "cell_type": "code",
   "execution_count": null,
   "id": "a3eaa6db",
   "metadata": {},
   "outputs": [],
   "source": [
    "\"\"\"\n",
    "Autores:\n",
    "        - Raúl Jiménez Juárez\n",
    "        - Beatriz Magán Pinto\n",
    "\"\"\""
   ]
  },
  {
   "cell_type": "markdown",
   "id": "9ea87277",
   "metadata": {},
   "source": [
    "# 1. Importación de librerías"
   ]
  },
  {
   "cell_type": "code",
   "execution_count": null,
   "id": "5596b488",
   "metadata": {},
   "outputs": [],
   "source": [
    "!pip install scikit-learn-extra\n",
    "!pip install sklearn_som\n",
    "!pip install kneed\n",
    "!pip install seaborn\n",
    "!pip install dataframe_image\n",
    "!pip install pandas\n",
    "!pip install numpy"
   ]
  },
  {
   "cell_type": "code",
   "execution_count": null,
   "id": "8f888802",
   "metadata": {},
   "outputs": [],
   "source": [
    "%reset\n",
    "from sklearn.cluster import Birch, AgglomerativeClustering, KMeans, DBSCAN\n",
    "from sklearn_extra.cluster import KMedoids\n",
    "from sklearn_som.som import SOM\n",
    "from sklearn.datasets import make_blobs\n",
    "from sklearn.metrics import silhouette_score\n",
    "from sklearn.preprocessing import StandardScaler\n",
    "from sklearn.model_selection import train_test_split\n",
    "from kneed import KneeLocator\n",
    "from matplotlib import rcParams\n",
    "import matplotlib.pyplot as plt\n",
    "import seaborn as sns\n",
    "import pandas as pd\n",
    "import dataframe_image as dfi\n",
    "import numpy as np"
   ]
  },
  {
   "cell_type": "markdown",
   "id": "7a1d5d36",
   "metadata": {},
   "source": [
    "# 2. Carga y análisis descriptivo de los datos"
   ]
  },
  {
   "cell_type": "code",
   "execution_count": null,
   "id": "37a6642b",
   "metadata": {},
   "outputs": [],
   "source": [
    "df_inicial = pd.read_csv(\"dataset_diabetes/diabetic_data.csv\")"
   ]
  },
  {
   "cell_type": "code",
   "execution_count": null,
   "id": "b5cb2e7b",
   "metadata": {},
   "outputs": [],
   "source": [
    "df = df_inicial.copy()\n",
    "df.head()"
   ]
  },
  {
   "cell_type": "code",
   "execution_count": null,
   "id": "3cc12e41",
   "metadata": {},
   "outputs": [],
   "source": []
  },
  {
   "cell_type": "markdown",
   "id": "3913e828",
   "metadata": {},
   "source": [
    "## 2.2 Preprocesamiento de los datos "
   ]
  },
  {
   "cell_type": "markdown",
   "id": "a3cb3929",
   "metadata": {},
   "source": [
    "### 2.2.1 Análisis de las variables "
   ]
  },
  {
   "cell_type": "markdown",
   "id": "58285413",
   "metadata": {},
   "source": [
    "* Encounter ID: Numeric Unique identifier of an encounter 0%\n",
    "\n",
    "* Patient number: Numeric Unique identifier of a patient 0%\n",
    "\n",
    "* Race Nominal Values: Caucasian, Asian, African American, Hispanic, and other 2%\n",
    "\n",
    "* Gender Nominal Values: male, female, and unknown/invalid 0%\n",
    "\n",
    "* Age: Nominal Grouped in 10-year intervals: [0, 10), [10, 20), ..., [90, 100) 0%]]\n",
    "\n",
    "* Weight: Numeric Weight in pounds. 97%\n",
    "\n",
    "* Admission type Nominal Integer identifier corresponding to 9 distinct values, for example, emergency, urgent, elective, newborn, and not available 0%\n",
    "\n",
    "* Discharge disposition: Nominal -  Integer identifier corresponding to 29 distinct values, for example, discharged to home, expired, and not available 0%\n",
    "\n",
    "* Admission source: Nominal Integer -  identifier corresponding to 21 distinct values, for example, physician referral,  emergency room, and transfer from a hospital 0%\n",
    "\n",
    "* Time in hospital: Numeric Integer -  number of days between admission and discharge 0%\n",
    "\n",
    "* Payer code: Nominal - Integer identifier corresponding to 23 distinct values, for example, Blue Cross\\Blue Shield, Medicare, and self-pay 52%\n",
    "\n",
    "* Medical specialty:  Nominal Integer identifier of a specialty of the admitting physician, corresponding to 84 distinct values, for example, cardiology, internal medicine, family\\general practice, and surgeon\n",
    "\n",
    "* Number of lab procedures: Numeric Number of lab tests performed during the encounter 0%\n",
    "\n",
    "* Number of procedures: Numeric Number of procedures (other than lab tests) performed during the encounter 0%\n",
    "\n",
    "* Number of medications: Numeric Number of distinct generic names administered during the encounter 0%\n",
    "\n",
    "* Number of outpatient visits: Numeric Number of outpatient visits of the patient in the year preceding the encounter 0%\n",
    "\n",
    "* Number of emergency visits Numeric Number of emergency visits of the patient in the year preceding the encounter 0%\n",
    "\n",
    "* Number of inpatient visits: Numeric Number of inpatient visits of the patient in the year preceding the encounter 0%\n",
    "\n",
    "* Diagnosis 1:  Nominal The primary diagnosis (coded as first three digits of ICD9); 848 distinct values 0%\n",
    "\n",
    "* Diagnosis 2: Nominal Secondary diagnosis (coded as first three digits of ICD9); 923 distinct values 0%\n",
    "\n",
    "* Diagnosis 3: Nominal Additional secondary diagnosis (coded as first three digits of ICD9); 954 distinct values 1%\n",
    "\n",
    "* Number of diagnoses: Numeric Number of diagnoses entered to the system 0%\n",
    "\n",
    "* Glucose serum test result: Nominal Indicates the range of the result or if the test was not taken. Values: “>200,” “>300,” “normal,” and “none” if not measured 0%\n",
    "\n",
    "* A1c test result: NominalIndicates the range of the result or if the test was not taken. Values: “>8” if the result was greater than 8%, “>7” if the result was greater than 7% but less than 8%, “normal if the result was less than 7%, and “none” if not measured. 0%\n",
    "\n",
    "* Change of medications: Nominal Indicates if there was a change in diabetic medications (either dosage or genericname). Values: “change” and “no change” 0%\n",
    "\n",
    "* Diabetes medications: Nominal Indicates if there was any diabetic medication prescribed. Values: “yes” and “no” 0%\n",
    "\n",
    "* 24 features for medications: Nominal For the generic names: metformin, repaglinide, nateglinide, chlorpropamide glimepiride, acetohexamide, glipizide, glyburide, tolbutamide, pioglitazone, rosiglitazone, acarbose, miglitol, troglitazone, tolazamide, examide, sitagliptin, insulin, glyburide-metformin, glipizide-metformin, glimepiride-pioglitazone, metformin-rosiglitazone, and metformin-pioglitazone, the feature indicates whether the drug was prescribed or there was a change in the dosage. Values: “up” if the dosage was increased during the encounter, “down” if the dosage was decreased, “steady” if the dosage did not change, and “no” if the drug was not prescribed 0%\n",
    "\n",
    "* Readmitted Nominal: Days to inpatient readmission. Values: “<30” if the patient was readmitted in less than30 days, “>30” if the patient was readmitted in more than 30 days, and “No” for norecord of readmission. 0%"
   ]
  },
  {
   "cell_type": "code",
   "execution_count": null,
   "id": "01319fb6",
   "metadata": {
    "scrolled": true
   },
   "outputs": [],
   "source": [
    "def grafico_barras_conjunto(df):\n",
    "    columnas = df.columns\n",
    "    cols=3\n",
    "    rows=round(len(columnas)/cols)\n",
    "    plt.rcParams.update({'font.size': 15})\n",
    "    fig, axs = plt.subplots(rows,cols,figsize = (cols*8,rows*8))\n",
    "    for i in range(rows):\n",
    "        for j in range(cols):\n",
    "            n = cols*i+j\n",
    "            if n<len(df.columns):\n",
    "                axs[i,j].hist(df[columnas[n]],bins=10,edgecolor='black')\n",
    "                axs[i,j].set(title = columnas[n])\n",
    "                axs[i,j].tick_params(labelrotation=45)\n",
    "                axs[i,j].grid()\n",
    "                plt.plot()\n",
    "            else:\n",
    "                axs[i,j].plot()\n",
    "            \n",
    "\n",
    "    fig.tight_layout()"
   ]
  },
  {
   "cell_type": "code",
   "execution_count": null,
   "id": "00057167",
   "metadata": {
    "scrolled": true
   },
   "outputs": [],
   "source": [
    "grafico_barras_conjunto(df.drop(columns = [\"diag_1\", \"diag_2\", \"diag_3\"]))"
   ]
  },
  {
   "cell_type": "code",
   "execution_count": null,
   "id": "86f70924",
   "metadata": {},
   "outputs": [],
   "source": [
    "def grafico_barras_unico(columna, df):\n",
    "\n",
    "    fig, ax = plt.subplots(figsize = (12,10))\n",
    "    plt.rcParams.update({'font.size': 18})\n",
    "    ax.hist(df[columna],bins=10,edgecolor='black')\n",
    "    ax.set(title = columna)\n",
    "    ax.plot()\n",
    "    ax.grid()\n",
    "    ax.tick_params(labelrotation=45)\n",
    "    fig.tight_layout()"
   ]
  },
  {
   "cell_type": "code",
   "execution_count": null,
   "id": "3423ca39",
   "metadata": {
    "scrolled": true
   },
   "outputs": [],
   "source": [
    "grafico_barras_unico('age', df)"
   ]
  },
  {
   "cell_type": "markdown",
   "id": "d7d10c78",
   "metadata": {},
   "source": [
    "Siguiendo la descripción de los datos, procedemos a eliminar aquellas columnas con un número elevado de valores faltantes. \n",
    "Las columnas eliminadas son: Weight, Payer code y Medical specialty"
   ]
  },
  {
   "cell_type": "code",
   "execution_count": null,
   "id": "2b2e9e91",
   "metadata": {},
   "outputs": [],
   "source": [
    "salida = df.isin(['?']).any()\n",
    "for s in range(len(salida)):\n",
    "    if (salida[s] == True):\n",
    "        missings  = len(df[df[salida.index[s]]== '?'])\n",
    "        porcentaje = round(missings * 100 / len(df), 2)\n",
    "        print(salida.index[s] + \":\\n\\t \" + str(missings) + \" \\n\\t \" + str(porcentaje) + \"%\\n\")     "
   ]
  },
  {
   "cell_type": "code",
   "execution_count": null,
   "id": "e5a8cb8f",
   "metadata": {},
   "outputs": [],
   "source": [
    "#Eliminamos las columnas 'weight', 'payer_code' y 'medical_specialty' debido a las gran cantidad de valores faltantes\n",
    "df.drop(columns=['weight', 'payer_code', 'medical_specialty'], inplace = True)\n",
    "#Eliminamos encounter_id\n",
    "df.drop(columns=['encounter_id'], inplace = True)\n",
    "\n",
    "#Eliminamos aquellos registros con elementos faltantes\n",
    "df.drop(df[df.race =='?'].index, inplace=True)\n",
    "df.drop(df[df.diag_1 =='?'].index, inplace=True)\n",
    "df.drop(df[df.diag_2 =='?'].index, inplace=True)\n",
    "df.drop(df[df.diag_3 =='?'].index, inplace=True)"
   ]
  },
  {
   "cell_type": "code",
   "execution_count": null,
   "id": "8f19a847",
   "metadata": {
    "scrolled": true
   },
   "outputs": [],
   "source": [
    "df[\"diag_1\"].unique()"
   ]
  },
  {
   "cell_type": "code",
   "execution_count": null,
   "id": "370f6059",
   "metadata": {
    "scrolled": true
   },
   "outputs": [],
   "source": [
    "df[\"diag_2\"].unique()"
   ]
  },
  {
   "cell_type": "code",
   "execution_count": null,
   "id": "0b41d48b",
   "metadata": {
    "scrolled": true
   },
   "outputs": [],
   "source": [
    "df[\"diag_3\"].unique()\n"
   ]
  },
  {
   "cell_type": "code",
   "execution_count": null,
   "id": "8f9031f8",
   "metadata": {},
   "outputs": [],
   "source": [
    "def parse_diag(df, column):\n",
    "    col_diag = list()\n",
    "    for reg in df[column]:\n",
    "        reg = str(reg)\n",
    "        if 'V' in reg or 'E' in reg:\n",
    "            col_diag.append('Other')\n",
    "        elif ((float(reg) >= 390 and float(reg) <=459) or float(reg) == 785):\n",
    "            col_diag.append(\"Circulatory\")\n",
    "        elif (float(reg) >= 460 and float(reg) <=519) or float(reg) == 786:\n",
    "            col_diag.append(\"Respiratory\")\n",
    "        elif (float(reg) >= 520 and float(reg) <=579) or float(reg) == 787:\n",
    "            col_diag.append(\"Digestive\")\n",
    "        elif (float(reg) >= 250 and float(reg) <= 251):\n",
    "            col_diag.append(\"Diabetes\")\n",
    "        elif (float(reg) >= 800 and float(reg) <=999):\n",
    "            col_diag.append(\"Injury\")\n",
    "        elif (float(reg) >= 710 and float(reg) <=739):\n",
    "            col_diag.append(\"Musculoskeletal\")\n",
    "        elif (float(reg) >= 580 and float(reg) <=629) or float(reg) == 788:\n",
    "            col_diag.append(\"Genitourinary\")\n",
    "        elif (float(reg) >= 140 and float(reg) <=239):\n",
    "            col_diag.append(\"Neoplasms\")\n",
    "        else:\n",
    "            col_diag.append(\"Other\")\n",
    "    return col_diag\n",
    "df['diag_1'] =  parse_diag(df, \"diag_1\")\n",
    "df['diag_2'] =  parse_diag(df, \"diag_2\")\n",
    "df['diag_3'] =  parse_diag(df, \"diag_3\")"
   ]
  },
  {
   "cell_type": "code",
   "execution_count": null,
   "id": "4b715d66",
   "metadata": {
    "scrolled": true
   },
   "outputs": [],
   "source": [
    "grafico_barras_conjunto(df.drop(columns=[\"patient_nbr\"]))"
   ]
  },
  {
   "cell_type": "code",
   "execution_count": null,
   "id": "d0272ba6",
   "metadata": {},
   "outputs": [],
   "source": [
    "col_num = list()\n",
    "col_cat_nom  = list()\n",
    "for column in df.columns:\n",
    "    if(isinstance(df[column].values[0], np.int64) and column != 'patient_nbr'):\n",
    "        col_num.append(column)\n",
    "    elif(column != 'patient_nbr'):\n",
    "        col_cat_nom.append(column)\n",
    "col_num"
   ]
  },
  {
   "cell_type": "markdown",
   "id": "d6b55f7a",
   "metadata": {},
   "source": [
    "### 2.2.x Valores desbalanceados"
   ]
  },
  {
   "cell_type": "code",
   "execution_count": null,
   "id": "d5c7f537",
   "metadata": {
    "scrolled": true
   },
   "outputs": [],
   "source": [
    "def mostrar_variables_desbalanceadas(df):\n",
    "    columnas_desbalanceadas = list()\n",
    "    for col in df.columns:\n",
    "        valores = df[col].unique()  \n",
    "        for valor in valores:\n",
    "            cantidad  = len(df[df[col]== valor])\n",
    "            porcentaje = round(cantidad * 100 / len(df), 2)\n",
    "            if porcentaje > 80:\n",
    "                print(\"====================================================\")\n",
    "                print(\"Valor desbalanceado  para la columna \", col)\n",
    "                print(\"\\t\" + str(valor) + \"\\t - \" + str(porcentaje) + \"%\")\n",
    "                columnas_desbalanceadas.append(col)\n",
    "    return columnas_desbalanceadas\n",
    "columnas_desbalanceadas = mostrar_variables_desbalanceadas(df)"
   ]
  },
  {
   "cell_type": "code",
   "execution_count": null,
   "id": "df4f9a48",
   "metadata": {},
   "outputs": [],
   "source": [
    "df_balanceado = df.drop(columns=columnas_desbalanceadas)"
   ]
  },
  {
   "cell_type": "code",
   "execution_count": null,
   "id": "9d383207",
   "metadata": {
    "scrolled": true
   },
   "outputs": [],
   "source": [
    "def distribucion_variable_categorica(df, col, figsize, fontsize):\n",
    "    if(len(df[col].unique()) > 1000):\n",
    "        return\n",
    "    df[col].value_counts(ascending=True,normalize=True).plot.barh()\n",
    "    plt.rcParams.update({'font.size': fontsize})\n",
    "    rcParams['figure.figsize'] = figsize,figsize\n",
    "    plt.ylabel(\"porcentaje\")\n",
    "    plt.xticks(rotation = 45)\n",
    "    plt.title(col)\n",
    "    plt.show()\n",
    "for col in df_balanceado.columns:   \n",
    "    distribucion_variable_categorica(df_balanceado, col, 10, 14)"
   ]
  },
  {
   "cell_type": "code",
   "execution_count": null,
   "id": "f9f16c85",
   "metadata": {},
   "outputs": [],
   "source": [
    "len(df.columns)"
   ]
  },
  {
   "cell_type": "code",
   "execution_count": null,
   "id": "bbddddec",
   "metadata": {},
   "outputs": [],
   "source": [
    "len(df_balanceado.columns)"
   ]
  },
  {
   "cell_type": "code",
   "execution_count": null,
   "id": "de6a2177",
   "metadata": {},
   "outputs": [],
   "source": [
    "grafico_barras_conjunto(df_balanceado)"
   ]
  },
  {
   "cell_type": "code",
   "execution_count": null,
   "id": "d8cdf984",
   "metadata": {},
   "outputs": [],
   "source": [
    "#Guardamos las columnas numéricas y las categóricas balanceadas\n",
    "col_num_bal = ['admission_type_id', \n",
    "                      'discharge_disposition_id',\n",
    "                      'admission_source_id',\n",
    "                      'time_in_hospital',\n",
    "                      'num_lab_procedures',\n",
    "                      'num_procedures',\n",
    "                      'num_medications',\n",
    "                      'number_inpatient',\n",
    "                      'number_diagnoses']\n",
    "\n",
    "col_cat_nom_bal = ['race', \n",
    "                  'gender', \n",
    "                  'age', \n",
    "                  'diag_1', \n",
    "                  'diag_2', \n",
    "                  'diag_3',\n",
    "                  'insulin',\n",
    "                  'change',\n",
    "                  'diabetesMed',\n",
    "                  'readmitted']"
   ]
  },
  {
   "cell_type": "markdown",
   "id": "cb81a8b8",
   "metadata": {},
   "source": [
    "### Matriz de correlación "
   ]
  },
  {
   "cell_type": "markdown",
   "id": "1a5bc60e",
   "metadata": {},
   "source": [
    "#### Dataset inicial "
   ]
  },
  {
   "cell_type": "code",
   "execution_count": null,
   "id": "a6a6b27f",
   "metadata": {},
   "outputs": [],
   "source": [
    "rcParams['figure.figsize'] = 20,15\n",
    "plt.rcParams.update({'font.size': 20})\n",
    "sns.heatmap(df[col_num].corr());"
   ]
  },
  {
   "cell_type": "code",
   "execution_count": null,
   "id": "295ef092",
   "metadata": {
    "scrolled": true
   },
   "outputs": [],
   "source": [
    "corr = df.corr()\n",
    "corr[abs(corr) > 0.2]"
   ]
  },
  {
   "cell_type": "code",
   "execution_count": null,
   "id": "f65d5100",
   "metadata": {},
   "outputs": [],
   "source": [
    "\"\"\"\n",
    "Mostramos aquellas variables que tengan una correlación mayos a 0.2 en valor absoluto.\n",
    "\"\"\"\n",
    "columnas_def = list()\n",
    "corr = df.corr()\n",
    "columns = corr.columns\n",
    "for col in columns:\n",
    "    if(len(corr[(abs(corr[col]) > 0.2) & (abs(corr[col]) != 1)][col]) != 0):\n",
    "        if col not in columnas_def:\n",
    "            columnas_def.append(col)\n",
    "        #print(\"- \" + col + \" -\")\n",
    "        print(corr[(abs(corr[col]) > 0.2) & (abs(corr[col]) != 1)][col])\n",
    "        print(\"===============================\")"
   ]
  },
  {
   "cell_type": "markdown",
   "id": "5bacaa81",
   "metadata": {},
   "source": [
    "Tras la visualización de las variables obtenemos como conclusión que las variables que podemos eliminar también son las siguientes:\n",
    "\n",
    "number_out_patient, number_emergency, repaglinide, nateglinide, chlorpropamide, acetohexamide, tolbutamide, miglitol, troglitazone, tolazamide"
   ]
  },
  {
   "cell_type": "markdown",
   "id": "df9b6b0e",
   "metadata": {},
   "source": [
    "#### Dataset con datos balanceados "
   ]
  },
  {
   "cell_type": "code",
   "execution_count": null,
   "id": "cbd6d822",
   "metadata": {},
   "outputs": [],
   "source": [
    "rcParams['figure.figsize'] = 20,15\n",
    "plt.rcParams.update({'font.size': 20})\n",
    "sns.heatmap(df_balanceado[col_num_bal].corr());"
   ]
  },
  {
   "cell_type": "code",
   "execution_count": null,
   "id": "46401bd4",
   "metadata": {},
   "outputs": [],
   "source": [
    "corr = df_balanceado.corr()\n",
    "corr[abs(corr) > 0.2]"
   ]
  },
  {
   "cell_type": "code",
   "execution_count": null,
   "id": "ac786a6a",
   "metadata": {},
   "outputs": [],
   "source": [
    "\"\"\"\n",
    "Mostramos aquellas variables que tengan una correlación mayos a 0.2 en valor absoluto.\n",
    "\"\"\"\n",
    "corr = df_balanceado.corr()\n",
    "columns = corr.columns\n",
    "for col in columns:\n",
    "    if(len(corr[(abs(corr[col]) > 0.2) & (abs(corr[col]) != 1)][col]) != 0):\n",
    "        if col not in columnas_def:\n",
    "            columnas_def.append(col)\n",
    "        #print(\"- \" + col + \" -\")\n",
    "        print(corr[(abs(corr[col]) > 0.2) & (abs(corr[col]) != 1)][col])\n",
    "        print(\"===============================\")"
   ]
  },
  {
   "cell_type": "markdown",
   "id": "61cc36e6",
   "metadata": {},
   "source": [
    "### Distribución de valores"
   ]
  },
  {
   "cell_type": "code",
   "execution_count": null,
   "id": "e20054cd",
   "metadata": {
    "scrolled": true
   },
   "outputs": [],
   "source": [
    "\"\"\"\n",
    "Mostramos la distribución de los datos para las variables categóricas\n",
    "\"\"\"\n",
    "\n",
    "def mostrar_porcentajes_variables(df):\n",
    "    \n",
    "    for col in df.columns:\n",
    "        valores = df[col].unique()  \n",
    "        print(\"====================================================\")\n",
    "        print(\"Distribución de valores para la columna  \", col)\n",
    "        for valor in valores:\n",
    "            cantidad  = len(df[df[col]== valor])\n",
    "            porcentaje = round(cantidad * 100 / len(df), 2)   \n",
    "            print(\"\\t\" + str(valor) + \"\\t\\t - \" + str(porcentaje) + \"% - cantidad: \" + str(cantidad))\n",
    "                "
   ]
  },
  {
   "cell_type": "code",
   "execution_count": null,
   "id": "942b16f7",
   "metadata": {
    "scrolled": true
   },
   "outputs": [],
   "source": [
    "import matplotlib.pyplot as plt\n",
    "\n",
    "def mostrar_boxplot(dataset, columnas):\n",
    "\n",
    "\n",
    "    rcParams['figure.figsize'] = 10,10   \n",
    "    plt.rcParams.update({'font.size': 14})\n",
    "    for column in columnas:\n",
    "            fig3, ax3 = plt.subplots()\n",
    "            ax3.set_title(column)\n",
    "            ax3.boxplot(dataset[column])\n",
    "    plt.tight_layout()\n"
   ]
  },
  {
   "cell_type": "code",
   "execution_count": null,
   "id": "a46838a8",
   "metadata": {
    "scrolled": true
   },
   "outputs": [],
   "source": [
    "import matplotlib.pyplot as plt\n",
    "import matplotlib\n",
    "def mostrar_boxplot_multiple(dataset, columnas):\n",
    "    variables = []\n",
    "    cols = 2\n",
    "    rows = round(len(columnas)/cols)-1\n",
    "    fig, axs = plt.subplots(rows,cols)\n",
    "    rcParams['figure.figsize'] = 20, 35\n",
    "    plt.rcParams.update({'font.size': 14})\n",
    "    for i in range(rows):\n",
    "        for j in range(cols):\n",
    "            n = cols*i+j\n",
    "\n",
    "            column = columnas[n]\n",
    "            axs[i,j].boxplot(dataset[column])\n",
    "            axs[i,j].set_title(column)\n",
    "\n",
    "    plt.tight_layout()"
   ]
  },
  {
   "cell_type": "markdown",
   "id": "252baab6",
   "metadata": {},
   "source": [
    "#### Dataset inicial"
   ]
  },
  {
   "cell_type": "code",
   "execution_count": null,
   "id": "9a2ceecc",
   "metadata": {},
   "outputs": [],
   "source": [
    "mostrar_boxplot(df, col_num)"
   ]
  },
  {
   "cell_type": "code",
   "execution_count": null,
   "id": "3b7d06f2",
   "metadata": {
    "scrolled": true
   },
   "outputs": [],
   "source": [
    "mostrar_boxplot_multiple(df, col_num)"
   ]
  },
  {
   "cell_type": "code",
   "execution_count": null,
   "id": "6f63c181",
   "metadata": {},
   "outputs": [],
   "source": [
    "mostrar_porcentajes_variables(df[col_cat_nom])  "
   ]
  },
  {
   "cell_type": "code",
   "execution_count": null,
   "id": "08797c13",
   "metadata": {
    "scrolled": true
   },
   "outputs": [],
   "source": [
    "\"\"\"\n",
    "A continuación, mostramos la cantidad de valores atípicos que hay por cada columna.\n",
    "\n",
    "\"\"\"      \n",
    "print(\"Valor por encima del doble del tercer cuartil:\")\n",
    "for column in col_num:\n",
    "    print(column)\n",
    "    valor_atipico1 = df[column].quantile(0.75) * 2\n",
    "    print(\"Valores atípicos: \" + str(valor_atipico1))\n",
    "    print(\"Cantidad de datos atípicos para la variable \" + column + \": \" + str(len(df[df[column] > valor_atipico1])))  \n",
    "    print(\"=============================================\")"
   ]
  },
  {
   "cell_type": "code",
   "execution_count": null,
   "id": "aa5ab519",
   "metadata": {
    "scrolled": true
   },
   "outputs": [],
   "source": [
    "print(\"\\n\\nValor por debajo de la mitad del primer cuartil:\")\n",
    "\n",
    "for column in col_num:\n",
    "    print(column)\n",
    "    valor_atipico1 = df[column].quantile(0.25) / 2\n",
    "    print(\"Valores atípicos: \" + str(valor_atipico1))\n",
    "    print(\"Cantidad de datos atípicos para la variable \" + column + \": \" + str(len(df[df[column] < valor_atipico1])))  \n",
    "    print(\"=============================================\")"
   ]
  },
  {
   "cell_type": "markdown",
   "id": "4978d1a9",
   "metadata": {},
   "source": [
    "#### Dataset balanceado "
   ]
  },
  {
   "cell_type": "code",
   "execution_count": null,
   "id": "39974e4a",
   "metadata": {},
   "outputs": [],
   "source": [
    "mostrar_boxplot(df_balanceado, col_num_bal)"
   ]
  },
  {
   "cell_type": "code",
   "execution_count": null,
   "id": "c406e82b",
   "metadata": {
    "scrolled": true
   },
   "outputs": [],
   "source": [
    "mostrar_boxplot_multiple(df_balanceado, col_num_bal)"
   ]
  },
  {
   "cell_type": "code",
   "execution_count": null,
   "id": "c972b4cf",
   "metadata": {
    "scrolled": true
   },
   "outputs": [],
   "source": [
    "mostrar_porcentajes_variables(df_balanceado[col_cat_nom_bal])  "
   ]
  },
  {
   "cell_type": "code",
   "execution_count": null,
   "id": "6054e5b4",
   "metadata": {
    "scrolled": true
   },
   "outputs": [],
   "source": [
    "\"\"\"\n",
    "A continuación, mostramos la cantidad de valores atípicos que hay por cada columna.\n",
    "\n",
    "\"\"\"      \n",
    "for column in col_num:\n",
    "    print(column)\n",
    "    valor_atipico1 = df[column].quantile(0.75) * 2\n",
    "    print(\"Valores atípicos: \" + str(valor_atipico1))\n",
    "    print(\"Cantidad de datos atípicos para la variable \" + column + \": \" + str(len(df[df[column] > valor_atipico1])))  \n",
    "    print(\"=============================================\")"
   ]
  },
  {
   "cell_type": "markdown",
   "id": "b94e3182",
   "metadata": {},
   "source": [
    "### Tablas de contingencia "
   ]
  },
  {
   "cell_type": "code",
   "execution_count": null,
   "id": "11971337",
   "metadata": {},
   "outputs": [],
   "source": [
    "#!pip install dataframe_image\n",
    "import dataframe_image as dfi\n",
    "def mostrar_tabla_contingencia(df, col1, col2):\n",
    "\n",
    "            # Tabla de contingencia\n",
    "            print(pd.crosstab(index=df[col1],columns=df[col2], margins=True))\n",
    "            #pd.crosstab(index=df[col1],columns=df[col2], margins=True).to_csv('plots/contingencia/contingencia_' + col1 + \"_\" + col2 + '.csv')\n",
    "            #dfi.export(pd.crosstab(index=df[col1],columns=df[col2], margins=True),'plots/contingencia/contingencia_' + col1 + \"_\" + col2 + '.png')\n",
    "            print(\"______________________________________________________________________________________________________________\\n\")\n",
    "            # tabla de contingencia en porcentajes relativos total\n",
    "            print(pd.crosstab(index=df[col1], columns=df[col2],margins=True).apply(lambda r: r/len(df) *100,axis=1))\n",
    "            #pd.crosstab(index=df[col1], columns=df[col2],margins=True).apply(lambda r: r/len(df) *100,axis=1).to_csv('plots/contingencia/contingencia_relativa_' + col1 + \"_\" + col2 + '.csv')\n",
    "            #dfi.export(pd.crosstab(index=df[col1], columns=df[col2],margins=True).apply(lambda r: r/len(df) *100,axis=1),\n",
    "            #'plots/contingencia/contingencia_relativa_' + col1 + \"_\" + col2 + '.png')"
   ]
  },
  {
   "cell_type": "markdown",
   "id": "bbc13793",
   "metadata": {},
   "source": [
    "#### Dataset inicial "
   ]
  },
  {
   "cell_type": "code",
   "execution_count": null,
   "id": "58b28f92",
   "metadata": {
    "scrolled": true
   },
   "outputs": [],
   "source": [
    "cols = list()\n",
    "for col1 in col_cat_nom:\n",
    "    for col2 in col_cat_nom:\n",
    "        if(col1 != col2 and col2 not in cols):\n",
    "            mostrar_tabla_contingencia(df, col1, col2)\n",
    "            print(\"\\n============================================================================================================\")\n",
    "    \n",
    "    cols.append(col1)    "
   ]
  },
  {
   "cell_type": "code",
   "execution_count": null,
   "id": "60340df6",
   "metadata": {},
   "outputs": [],
   "source": [
    "grafico_barras_conjunto(df[col_cat_nom])"
   ]
  },
  {
   "cell_type": "code",
   "execution_count": null,
   "id": "b2485157",
   "metadata": {
    "scrolled": false
   },
   "outputs": [],
   "source": [
    "grafico_barras_conjunto(df)"
   ]
  },
  {
   "cell_type": "markdown",
   "id": "17e943bf",
   "metadata": {},
   "source": [
    "#### Dataset balanceado "
   ]
  },
  {
   "cell_type": "code",
   "execution_count": null,
   "id": "16c26518",
   "metadata": {
    "scrolled": true
   },
   "outputs": [],
   "source": [
    "cols = list()\n",
    "for col1 in col_cat_nom_bal:\n",
    "    for col2 in col_cat_nom_bal:\n",
    "        if(col1 != col2 and col2 not in cols):\n",
    "            mostrar_tabla_contingencia(df_balanceado, col1, col2)\n",
    "            print(\"\\n============================================================================================================\")\n",
    "    \n",
    "    cols.append(col1)  "
   ]
  },
  {
   "cell_type": "code",
   "execution_count": null,
   "id": "4891a326",
   "metadata": {
    "scrolled": true
   },
   "outputs": [],
   "source": [
    "grafico_barras_conjunto(df_balanceado[col_cat_nom_bal])"
   ]
  },
  {
   "cell_type": "code",
   "execution_count": null,
   "id": "7c55f0f4",
   "metadata": {},
   "outputs": [],
   "source": [
    "df_balanceado"
   ]
  },
  {
   "cell_type": "markdown",
   "id": "30c4343d",
   "metadata": {},
   "source": [
    "### Aplicar OneHot encoding variables categoricas "
   ]
  },
  {
   "cell_type": "markdown",
   "id": "01843dc3",
   "metadata": {},
   "source": [
    "#### Dataset inicial "
   ]
  },
  {
   "cell_type": "code",
   "execution_count": null,
   "id": "62a44901",
   "metadata": {},
   "outputs": [],
   "source": [
    "#Creamos el dataset df_onehot que deriva del df\n",
    "col_cat_nom_onehot = list()\n",
    "\n",
    "df_onehot = df[col_num].copy(deep=True)\n",
    "\n",
    "for col in col_cat_nom:\n",
    "    df_buff =  pd.get_dummies(df[col], prefix=col)\n",
    "    for col_b in df_buff.columns:\n",
    "        df_onehot[col_b] = df_buff[col_b]\n",
    "    col_cat_nom_onehot.extend(df_buff.columns)\n",
    "    #df_onehot = df_onehot.append(df_buff, sort=False)\n",
    "df_buff = None\n",
    "df_onehot = df_onehot.copy(deep=True)"
   ]
  },
  {
   "cell_type": "markdown",
   "id": "94716147",
   "metadata": {},
   "source": [
    "#### Dataset balanceado "
   ]
  },
  {
   "cell_type": "code",
   "execution_count": null,
   "id": "51d7bf18",
   "metadata": {},
   "outputs": [],
   "source": [
    "col_cat_nom_onehot_bal = list()\n",
    "df_onehot_balanceado = df_balanceado[col_num_bal].copy(deep=True)\n",
    "for col in col_cat_nom_bal:\n",
    "    df_buff =  pd.get_dummies(df_balanceado[col], prefix=col)\n",
    "    for col_b in df_buff.columns:\n",
    "        df_onehot_balanceado[col_b] = df_buff[col_b]\n",
    "    col_cat_nom_onehot_bal.extend(df_buff.columns)"
   ]
  },
  {
   "cell_type": "markdown",
   "id": "63d019c3",
   "metadata": {},
   "source": [
    "### División de los conjuntos de datos"
   ]
  },
  {
   "cell_type": "code",
   "execution_count": null,
   "id": "89b3ffef",
   "metadata": {},
   "outputs": [],
   "source": [
    "X_numerico, X_t_numerico, Y_numerico, Y_t_numerico = train_test_split(df[col_num], df[col_cat_nom],test_size=0.3, random_state=0, shuffle = True)\n",
    "X_numerico_bal, X_t_numerico_bal, Y_numerico_bal, Y_t_numerico_bal = train_test_split(df_balanceado[col_num_bal], df[col_num_bal+col_cat_nom_bal],test_size=0.3, random_state=0, shuffle = True)\n",
    "X_onehot, X_t_onehot = train_test_split(df_onehot,test_size=0.3, random_state=0, shuffle = True)\n",
    "X_onehot_bal, X_t_onehot_bal, Y_onehot_bal, Y_t_onehot_bal = train_test_split(df_onehot_balanceado, df[col_cat_nom_bal],test_size=0.3, random_state=0, shuffle = True)"
   ]
  },
  {
   "cell_type": "code",
   "execution_count": null,
   "id": "0e54a79d",
   "metadata": {},
   "outputs": [],
   "source": [
    "df.to_csv(\"dataset_diabetes/df.csv\")\n",
    "df_balanceado.to_csv(\"dataset_diabetes/df_balanceado.csv\")\n",
    "df_onehot.to_csv(\"dataset_diabetes/df_onehot.csv\")\n",
    "df_onehot_balanceado.to_csv(\"dataset_diabetes/df_onehot_balanceado.csv\")"
   ]
  },
  {
   "cell_type": "code",
   "execution_count": null,
   "id": "e0c8e3eb",
   "metadata": {},
   "outputs": [],
   "source": [
    "X_numerico.to_csv(\"dataset_diabetes/X_numerico.csv\", index = False)\n",
    "X_t_numerico.to_csv(\"dataset_diabetes/X_t_numerico.csv\", index = False)\n",
    "Y_numerico.to_csv(\"dataset_diabetes/Y_numerico.csv\", index = False)\n",
    "Y_t_numerico.to_csv(\"dataset_diabetes/Y_t_numerico.csv\", index = False)\n",
    "X_numerico_bal.to_csv(\"dataset_diabetes/X_numerico_bal.csv\", index = False)\n",
    "X_t_numerico_bal.to_csv(\"dataset_diabetes/X_t_bal_numerico.csv\", index = False)\n",
    "Y_numerico_bal.to_csv(\"dataset_diabetes/Y_numerico_bal.csv\", index = False)\n",
    "Y_t_numerico_bal.to_csv(\"dataset_diabetes/Y_t_numerico_bal.csv\", index = False)\n",
    "X_onehot.to_csv(\"dataset_diabetes/X_onehot.csv\", index = False)\n",
    "X_t_onehot.to_csv(\"dataset_diabetes/X_t_onehot.csv\", index = False)\n",
    "X_onehot_bal.to_csv(\"dataset_diabetes/X_onehot_bal.csv\", index = False)\n",
    "X_t_onehot_bal.to_csv(\"dataset_diabetes/X_t_onehot_bal.csv\", index = False)\n",
    "Y_onehot_bal.to_csv(\"dataset_diabetes/Y_onehot_bal.csv\", index = False)\n",
    "Y_t_onehot_bal.to_csv(\"dataset_diabetes/Y_t_onehot_bal.csv\", index = False)"
   ]
  }
 ],
 "metadata": {
  "kernelspec": {
   "display_name": "Python 3 (ipykernel)",
   "language": "python",
   "name": "python3"
  },
  "language_info": {
   "codemirror_mode": {
    "name": "ipython",
    "version": 3
   },
   "file_extension": ".py",
   "mimetype": "text/x-python",
   "name": "python",
   "nbconvert_exporter": "python",
   "pygments_lexer": "ipython3",
   "version": "3.9.7"
  }
 },
 "nbformat": 4,
 "nbformat_minor": 5
}
