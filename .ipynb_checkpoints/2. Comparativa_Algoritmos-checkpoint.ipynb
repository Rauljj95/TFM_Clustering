{
 "cells": [
  {
   "cell_type": "code",
   "execution_count": null,
   "id": "a3eaa6db",
   "metadata": {},
   "outputs": [],
   "source": [
    "\"\"\"\n",
    "Autores:\n",
    "        - Raúl Jiménez Juárez\n",
    "        - Beatriz Magán Pinto\n",
    "\"\"\""
   ]
  },
  {
   "cell_type": "code",
   "execution_count": null,
   "id": "272741d3",
   "metadata": {
    "scrolled": true
   },
   "outputs": [],
   "source": [
    "!pip install scikit-learn-extra\n",
    "!pip install sklearn_som\n",
    "!pip install kneed\n",
    "!pip install seaborn\n",
    "!pip install dataframe_image"
   ]
  },
  {
   "cell_type": "code",
   "execution_count": null,
   "id": "8f888802",
   "metadata": {},
   "outputs": [],
   "source": [
    "%reset\n",
    "from sklearn.metrics import silhouette_score, calinski_harabasz_score, davies_bouldin_score\n",
    "from sklearn.cluster import Birch, AgglomerativeClustering, KMeans, DBSCAN, BisectingKMeans\n",
    "from sklearn_extra.cluster import KMedoids\n",
    "from sklearn_som.som import SOM\n",
    "from sklearn.datasets import make_blobs\n",
    "from sklearn.metrics import silhouette_score\n",
    "from sklearn.preprocessing import StandardScaler\n",
    "from sklearn.model_selection import train_test_split\n",
    "from kneed import KneeLocator\n",
    "from matplotlib import rcParams\n",
    "import scipy.cluster.hierarchy as sch\n",
    "import matplotlib.pyplot as plt\n",
    "import seaborn as sns\n",
    "import pandas as pd\n",
    "import dataframe_image as dfi\n",
    "import numpy as np"
   ]
  },
  {
   "cell_type": "markdown",
   "id": "7a1d5d36",
   "metadata": {},
   "source": [
    "# 2. Carga y análisis descriptivo de los datos"
   ]
  },
  {
   "cell_type": "code",
   "execution_count": null,
   "id": "b5cb2e7b",
   "metadata": {},
   "outputs": [],
   "source": [
    "X_numerico = pd.read_csv(\"dataset_diabetes/X_numerico.csv\")\n",
    "X_t_numerico = pd.read_csv(\"dataset_diabetes/X_t_numerico.csv\")\n",
    "Y_numerico = pd.read_csv(\"dataset_diabetes/Y_numerico.csv\")\n",
    "Y_t_numerico = pd.read_csv(\"dataset_diabetes/Y_t_numerico.csv\")\n",
    "X_numerico_bal = pd.read_csv(\"dataset_diabetes/X_numerico_bal.csv\")\n",
    "X_t_numerico_bal = pd.read_csv(\"dataset_diabetes/X_t_bal_numerico.csv\")\n",
    "Y_numerico_bal = pd.read_csv(\"dataset_diabetes/Y_numerico_bal.csv\")\n",
    "Y_t_numerico_bal = pd.read_csv(\"dataset_diabetes/Y_t_numerico_bal.csv\")\n",
    "X_onehot = pd.read_csv(\"dataset_diabetes/X_onehot.csv\")\n",
    "X_t_onehot = pd.read_csv(\"dataset_diabetes/X_t_onehot.csv\")\n",
    "X_onehot_bal = pd.read_csv(\"dataset_diabetes/X_onehot_bal.csv\")\n",
    "X_t_onehot_bal = pd.read_csv(\"dataset_diabetes/X_t_onehot_bal.csv\")"
   ]
  },
  {
   "cell_type": "code",
   "execution_count": null,
   "id": "90fc5d55",
   "metadata": {},
   "outputs": [],
   "source": [
    "#Hacemos una normalización de los datos\n",
    "def normalizar(dataset):\n",
    "    return ((dataset-dataset.min())/(dataset.max()-dataset.min())).fillna(0)"
   ]
  },
  {
   "cell_type": "markdown",
   "id": "c0b8dacb",
   "metadata": {},
   "source": [
    "# 3. Desarrollo de algoritmos"
   ]
  },
  {
   "cell_type": "code",
   "execution_count": null,
   "id": "436fc432",
   "metadata": {},
   "outputs": [],
   "source": [
    "df_predicted_train = pd.DataFrame()\n",
    "df_predicted_test = pd.DataFrame()"
   ]
  },
  {
   "cell_type": "code",
   "execution_count": null,
   "id": "80e4a75d",
   "metadata": {},
   "outputs": [],
   "source": [
    "def plot_metrica(metrica, nombre_metrica, nombre_caso):\n",
    "    rcParams['figure.figsize'] = 10, 10\n",
    "    plt.rcParams.update({'font.size': 15})\n",
    "    fig, ax = plt.subplots()\n",
    "    ax.scatter(metrica[:,0], metrica[:,1])\n",
    "    ax.plot(metrica[:,0], metrica[:,1])\n",
    "    ax.set(xlabel=\"n_clusters\", ylabel=nombre_metrica, title=\"Variación \" + nombre_metrica + \" \" + nombre_caso)\n",
    "    ax.grid()\n",
    "    plt.savefig(\"plots/metricas/\"+nombre_metrica+\"_\"+nombre_caso)\n",
    "    plt.tight_layout()"
   ]
  },
  {
   "cell_type": "code",
   "execution_count": null,
   "id": "97d5d178",
   "metadata": {},
   "outputs": [],
   "source": [
    "def plot_metricas(metricas, nombres_metricas, nombre_caso):\n",
    "    \n",
    "    cols = 3\n",
    "    rows = 1\n",
    "    rcParams['figure.figsize'] = 65, 18\n",
    "    plt.rcParams.update({'font.size': 48})\n",
    "    if(len(metricas )== 4):\n",
    "        cols = 2\n",
    "        rows = 2\n",
    "        rcParams['figure.figsize'] = 20, 20\n",
    "        plt.rcParams.update({'font.size': 15})\n",
    "    i = 0\n",
    "\n",
    "    fig, ax = plt.subplots(rows, cols)\n",
    "    for r in range(rows):\n",
    "        for c in range(cols):\n",
    "            if len(metricas) == 4:\n",
    "                ax[r, c].scatter(metricas[i][:,0], metricas[i][:,1])\n",
    "                ax[r, c].plot(metricas[i][:,0], metricas[i][:,1])\n",
    "                ax[r, c].set(xlabel=\"n_clusters\", ylabel=nombres_metricas[i], title= nombres_metricas[i] + \" \"  + nombre_caso)\n",
    "                ax[r, c].grid()\n",
    "            else:\n",
    "                ax[c].scatter(metricas[i][:,0], metricas[i][:,1])\n",
    "                ax[c].plot(metricas[i][:,0], metricas[i][:,1])\n",
    "                ax[c].set(xlabel=\"n_clusters\", ylabel=nombres_metricas[i], title= nombres_metricas[i] + \" \"  + nombre_caso)\n",
    "                ax[c].grid()\n",
    "            i+=1\n",
    "    plt.savefig(\"plots/metricas/metricas_\"+nombre_caso)\n",
    "    plt.tight_layout()"
   ]
  },
  {
   "cell_type": "markdown",
   "id": "beeb78ce",
   "metadata": {},
   "source": [
    "## 3.1 K-means"
   ]
  },
  {
   "cell_type": "code",
   "execution_count": null,
   "id": "60c42991",
   "metadata": {},
   "outputs": [],
   "source": [
    "#Calcular la ineercia de 1 hasta 7  para el número óptimo de clusters\n",
    "#https://jarroba.com/seleccion-del-numero-optimo-clusters/\n",
    "def comparativa_clusters_kmeans(dataset, n_clusters, nombre_caso):\n",
    "    inertias_arr = list()\n",
    "    silhouette_arr = list()\n",
    "    calinski_harabasz_arr = list()\n",
    "    davies_bouldin_arr =list()\n",
    "    for i in range(2, n_clusters):\n",
    "        print(i)\n",
    "        modelo = KMeans(init=\"random\",n_clusters=i,n_init=10,max_iter=300,random_state=0)\n",
    "        modelo.fit(normalizar(dataset).values)\n",
    "        inertias_arr.append([i, modelo.inertia_])\n",
    "        predicted = modelo.fit_predict(normalizar(dataset).values)\n",
    "        silhouette_arr.append([i, silhouette_score(dataset, predicted)])\n",
    "        calinski_harabasz_arr.append([i, calinski_harabasz_score(dataset, predicted)])\n",
    "        davies_bouldin_arr.append([i, davies_bouldin_score(dataset, predicted)])\n",
    "              \n",
    "    inertias_arr = np.array(inertias_arr)\n",
    "    silhouete_arr = np.array(silhouette_arr)\n",
    "    calinski_harabasz_arr = np.array(calinski_harabasz_arr)\n",
    "    davies_bouldin_arr = np.array(davies_bouldin_arr)\n",
    "\n",
    "    plot_metrica(inertias_arr, \"inercia\", nombre_caso)\n",
    "    plot_metrica(silhouete_arr, \"silhouette\", nombre_caso)\n",
    "    plot_metrica(calinski_harabasz_arr, \"calinski_harabasz\", nombre_caso)\n",
    "    plot_metrica(davies_bouldin_arr, \"davies_bouldin_score\", nombre_caso)\n",
    "\n",
    "    plot_metricas(np.array([inertias_arr,silhouette_arr, calinski_harabasz_arr, davies_bouldin_arr]), \n",
    "                  [\"inercia\", \"silhouette\", \"calinski_harabasz\", \"davies_bouldin_score\"], nombre_caso)\n",
    "    "
   ]
  },
  {
   "cell_type": "code",
   "execution_count": null,
   "id": "fe7a444c",
   "metadata": {},
   "outputs": [],
   "source": [
    "max_clusters = 30"
   ]
  },
  {
   "cell_type": "markdown",
   "id": "5129136a",
   "metadata": {},
   "source": [
    "### 3.1.1 Primer caso (Dataset inicial numérico con categóticas One-hot) "
   ]
  },
  {
   "cell_type": "code",
   "execution_count": null,
   "id": "a7165030",
   "metadata": {
    "scrolled": true
   },
   "outputs": [],
   "source": [
    "comparativa_clusters_kmeans(X_t_onehot, max_clusters, \"- caso 1 - K-means\")"
   ]
  },
  {
   "cell_type": "code",
   "execution_count": null,
   "id": "a9e0ffd8",
   "metadata": {},
   "outputs": [],
   "source": [
    "n_clusters = 4\n",
    "cluster_kmeans = KMeans(init=\"random\",n_clusters=n_clusters,n_init=10,max_iter=300,random_state=0)\n",
    "cluster_kmeans.fit(normalizar(X_onehot).values)\n",
    "df_predicted_train[\"kmeans_df_onehot\"] = cluster_kmeans.predict(normalizar(X_onehot).values)\n",
    "df_predicted_test[\"kmeans_df_onehot\"] = cluster_kmeans.predict(normalizar(X_t_onehot).values)"
   ]
  },
  {
   "cell_type": "markdown",
   "id": "93c67dca",
   "metadata": {},
   "source": [
    "### 3.1.2 Segundo caso  (Dataset balanceado numérico con categóticas One-hot) "
   ]
  },
  {
   "cell_type": "code",
   "execution_count": null,
   "id": "0e156caf",
   "metadata": {
    "scrolled": true
   },
   "outputs": [],
   "source": [
    "comparativa_clusters_kmeans(X_t_onehot_bal, max_clusters, \"- caso 2 - K-means\")"
   ]
  },
  {
   "cell_type": "code",
   "execution_count": null,
   "id": "a5a9fa54",
   "metadata": {},
   "outputs": [],
   "source": [
    "cluster_kmeans = KMeans(init=\"random\",n_clusters=n_clusters,n_init=10,max_iter=300,random_state=0)\n",
    "cluster_kmeans.fit(normalizar(X_onehot_bal).values)\n",
    "df_predicted_train[\"kmeans_df_onehot_balanceado\"] = cluster_kmeans.predict(normalizar(X_onehot_bal).values)\n",
    "df_predicted_test[\"kmeans_df_onehot_balanceado\"] = cluster_kmeans.predict(normalizar(X_t_onehot_bal).values)"
   ]
  },
  {
   "cell_type": "markdown",
   "id": "d87f0df2",
   "metadata": {},
   "source": [
    "### 3.1.3 Tercer caso  (Dataset inicial numérico) "
   ]
  },
  {
   "cell_type": "code",
   "execution_count": null,
   "id": "8ab57fd8",
   "metadata": {},
   "outputs": [],
   "source": [
    "comparativa_clusters_kmeans(X_t_numerico, max_clusters, \"- caso 3 - K-means\")"
   ]
  },
  {
   "cell_type": "code",
   "execution_count": null,
   "id": "70398d19",
   "metadata": {},
   "outputs": [],
   "source": [
    "cluster_kmeans = KMeans(init=\"random\",n_clusters=n_clusters,n_init=10,max_iter=300,random_state=0)\n",
    "cluster_kmeans.fit(normalizar(X_numerico).values)\n",
    "df_predicted_train[\"kmeans_df\"] = cluster_kmeans.predict(normalizar(X_numerico).values)\n",
    "df_predicted_test[\"kmeans_df_numerico\"] = cluster_kmeans.predict(normalizar(X_t_numerico).values)"
   ]
  },
  {
   "cell_type": "markdown",
   "id": "25343648",
   "metadata": {},
   "source": [
    "### 3.1.4 Cuarto caso  (Dataset balanceado numérico) "
   ]
  },
  {
   "cell_type": "code",
   "execution_count": null,
   "id": "ee62f671",
   "metadata": {
    "scrolled": true
   },
   "outputs": [],
   "source": [
    "comparativa_clusters_kmeans(X_t_numerico_bal, max_clusters, \"- caso 4 - K-means\")"
   ]
  },
  {
   "cell_type": "code",
   "execution_count": null,
   "id": "ead91048",
   "metadata": {},
   "outputs": [],
   "source": [
    "cluster_kmeans = KMeans(init=\"random\",n_clusters=n_clusters,n_init=10,max_iter=300,random_state=0)\n",
    "cluster_kmeans.fit(normalizar(X_numerico_bal).values)\n",
    "df_predicted_train[\"kmeans_df_balanceado\"] = cluster_kmeans.predict(normalizar(X_numerico_bal).values)\n",
    "df_predicted_test[\"kmeans_df_numerico_balanceado\"] = cluster_kmeans.predict(normalizar(X_t_numerico_bal).values)"
   ]
  },
  {
   "cell_type": "markdown",
   "id": "7737bafd",
   "metadata": {},
   "source": [
    "## 3.2 Mapas Autoorganizativos"
   ]
  },
  {
   "cell_type": "code",
   "execution_count": null,
   "id": "7562c035",
   "metadata": {},
   "outputs": [],
   "source": [
    "def comparativa_clusters_som(dataset, lado_maximo, nombre_caso):\n",
    "    inertias_arr = list()\n",
    "    silhouette_arr = list()\n",
    "    calinski_harabasz_arr = list()\n",
    "    davies_bouldin_arr =list()\n",
    "    \n",
    "    for i in range(2, lado_maximo):\n",
    "        tamaño_lado = i * i\n",
    "        print(tamaño_lado)\n",
    "        cluster_som = SOM(m=i, n=i, dim = len(dataset.columns))\n",
    "        cluster_som.fit(normalizar(dataset).values)\n",
    "        predicted =  cluster_som.predict(normalizar(dataset).values)\n",
    "        silhouette_arr.append([tamaño_lado, silhouette_score(dataset,predicted)])\n",
    "        calinski_harabasz_arr.append([tamaño_lado, calinski_harabasz_score(dataset, predicted)])\n",
    "        davies_bouldin_arr.append([tamaño_lado, davies_bouldin_score(dataset, predicted)])\n",
    "              \n",
    "    silhouete_arr = np.array(silhouette_arr)\n",
    "    calinski_harabasz_arr = np.array(calinski_harabasz_arr)\n",
    "    davies_bouldin_arr = np.array(davies_bouldin_arr)\n",
    "\n",
    "    plot_metrica(silhouete_arr, \"silhouette\", nombre_caso)\n",
    "    plot_metrica(calinski_harabasz_arr, \"calinski_harabasz\", nombre_caso)\n",
    "    plot_metrica(davies_bouldin_arr, \"davies_bouldin_score\", nombre_caso)\n",
    "\n",
    "    plot_metricas(np.array([silhouette_arr, calinski_harabasz_arr, davies_bouldin_arr]), \n",
    "                  [\"silhouette\", \"calinski_harabasz\", \"davies_bouldin_score\"], nombre_caso)\n",
    "    "
   ]
  },
  {
   "cell_type": "code",
   "execution_count": null,
   "id": "e33819d8",
   "metadata": {},
   "outputs": [],
   "source": [
    "lado_maximo = 9"
   ]
  },
  {
   "cell_type": "markdown",
   "id": "17b856ba",
   "metadata": {},
   "source": [
    "### 3.2.1 Primer caso (Dataset inicial numérico con categóticas One-hot)"
   ]
  },
  {
   "cell_type": "code",
   "execution_count": null,
   "id": "8e09741c",
   "metadata": {
    "scrolled": true
   },
   "outputs": [],
   "source": [
    "comparativa_clusters_som(X_t_onehot, lado_maximo, \"- caso 1 - SOM\")"
   ]
  },
  {
   "cell_type": "code",
   "execution_count": null,
   "id": "d7536215",
   "metadata": {},
   "outputs": [],
   "source": [
    "n_clusters = 2\n",
    "cluster_som = SOM(m=n_clusters, n=n_clusters, dim = len(X_t_onehot.columns))\n",
    "cluster_som.fit(normalizar(X_onehot).values)\n",
    "df_predicted_train[\"som_df_onehot\"] = cluster_som.predict(normalizar(X_onehot).values)\n",
    "df_predicted_test[\"som_df_onehot\"] = cluster_som.predict(normalizar(X_t_onehot).values)"
   ]
  },
  {
   "cell_type": "markdown",
   "id": "91d96b34",
   "metadata": {},
   "source": [
    "### 3.2.2 Segundo caso  (Dataset balanceado numérico con categóticas One-hot) "
   ]
  },
  {
   "cell_type": "code",
   "execution_count": null,
   "id": "44339ca2",
   "metadata": {},
   "outputs": [],
   "source": [
    "comparativa_clusters_som(X_t_onehot_bal, lado_maximo, \"- caso 2 - SOM\")"
   ]
  },
  {
   "cell_type": "code",
   "execution_count": null,
   "id": "47f13908",
   "metadata": {},
   "outputs": [],
   "source": [
    "n_clusters = 2\n",
    "cluster_som = SOM(m=n_clusters, n=n_clusters, dim = len(X_onehot_bal.columns))\n",
    "cluster_som.fit(normalizar(X_onehot_bal).values)\n",
    "df_predicted_train[\"som_df_onehot_balanceado\"] = cluster_som.predict(normalizar(X_onehot_bal).values)\n",
    "df_predicted_test[\"som_df_onehot_balanceado\"] = cluster_som.predict(normalizar(X_t_onehot_bal).values)"
   ]
  },
  {
   "cell_type": "markdown",
   "id": "cb0b0477",
   "metadata": {},
   "source": [
    "### 3.2.3 Tercer caso  (Dataset inicial numérico) "
   ]
  },
  {
   "cell_type": "code",
   "execution_count": null,
   "id": "c0162f79",
   "metadata": {},
   "outputs": [],
   "source": [
    "comparativa_clusters_som(X_t_numerico, lado_maximo, \"- caso 3 - SOM\")"
   ]
  },
  {
   "cell_type": "code",
   "execution_count": null,
   "id": "ed2ffaf1",
   "metadata": {},
   "outputs": [],
   "source": [
    "n_clusters = 2\n",
    "cluster_som = SOM(m=n_clusters, n=n_clusters, dim = len(X_t_numerico.columns))\n",
    "cluster_som.fit(normalizar(X_numerico).values)\n",
    "df_predicted_train[\"som_df_numerico\"] = cluster_som.predict(normalizar(X_numerico).values)\n",
    "df_predicted_test[\"som_df_numerico\"] = cluster_som.predict(normalizar(X_t_numerico).values)"
   ]
  },
  {
   "cell_type": "markdown",
   "id": "4638c434",
   "metadata": {},
   "source": [
    "### 3.2.4 Cuarto caso  (Dataset balanceado numérico) "
   ]
  },
  {
   "cell_type": "code",
   "execution_count": null,
   "id": "a1e6827e",
   "metadata": {
    "scrolled": true
   },
   "outputs": [],
   "source": [
    "comparativa_clusters_som(X_numerico_bal, lado_maximo, \"- caso 4 - SOM\")"
   ]
  },
  {
   "cell_type": "code",
   "execution_count": null,
   "id": "ff84626d",
   "metadata": {},
   "outputs": [],
   "source": [
    "n_clusters = 2\n",
    "cluster_som = SOM(m=n_clusters, n=n_clusters, dim = len(X_t_numerico_bal.columns))\n",
    "cluster_som.fit(normalizar(X_numerico_bal).values)\n",
    "df_predicted_train[\"som_df_numerico_balanceado\"] = cluster_som.predict(normalizar(X_numerico_bal).values)\n",
    "df_predicted_test[\"som_df_numerico_balanceado\"] = cluster_som.predict(normalizar(X_t_numerico_bal).values)"
   ]
  },
  {
   "cell_type": "markdown",
   "id": "a1b6337b",
   "metadata": {},
   "source": [
    "## 3.4 K-medoids\n"
   ]
  },
  {
   "cell_type": "code",
   "execution_count": null,
   "id": "1c024718",
   "metadata": {},
   "outputs": [],
   "source": [
    "def comparativa_clusters_kmedoids(dataset, max_clusters, nombre_caso):\n",
    "    inertias_arr = list()\n",
    "    silhouette_arr = list()\n",
    "    calinski_harabasz_arr = list()\n",
    "    davies_bouldin_arr =list()\n",
    "    for i in range(2, max_clusters):\n",
    "        print(i)\n",
    "        modelo = KMedoids(n_clusters=i, random_state=0)\n",
    "        modelo.fit(dataset.values)\n",
    "        inertias_arr.append([i, modelo.inertia_])\n",
    "        predicted = modelo.fit_predict(normalizar(dataset).values)\n",
    "        silhouette_arr.append([i, silhouette_score(dataset, predicted)])\n",
    "        calinski_harabasz_arr.append([i, calinski_harabasz_score(dataset, predicted)])\n",
    "        davies_bouldin_arr.append([i, davies_bouldin_score(dataset, predicted)])\n",
    "              \n",
    "    inertias_arr = np.array(inertias_arr)\n",
    "    silhouete_arr = np.array(silhouette_arr)\n",
    "    calinski_harabasz_arr = np.array(calinski_harabasz_arr)\n",
    "    davies_bouldin_arr = np.array(davies_bouldin_arr)\n",
    "\n",
    "    plot_metrica(inertias_arr, \"inercia\", nombre_caso)\n",
    "    plot_metrica(silhouete_arr, \"silhouette\", nombre_caso)\n",
    "    plot_metrica(calinski_harabasz_arr, \"calinski_harabasz\", nombre_caso)\n",
    "    plot_metrica(davies_bouldin_arr, \"davies_bouldin_score\", nombre_caso)\n",
    "\n",
    "    plot_metricas(np.array([inertias_arr,silhouette_arr, calinski_harabasz_arr, davies_bouldin_arr]), \n",
    "                  [\"inercia\", \"silhouette\", \"calinski_harabasz\", \"davies_bouldin_score\"], nombre_caso)"
   ]
  },
  {
   "cell_type": "markdown",
   "id": "0b22dc35",
   "metadata": {},
   "source": [
    "### 3.4.1 Primer caso (Dataset inicial numérico con categóticas One-hot) "
   ]
  },
  {
   "cell_type": "code",
   "execution_count": null,
   "id": "d1ee9700",
   "metadata": {},
   "outputs": [],
   "source": [
    "comparativa_clusters_kmedoids(X_t_onehot, max_clusters, \"- caso 1 - K-medoids\")"
   ]
  },
  {
   "cell_type": "code",
   "execution_count": null,
   "id": "df20dd00",
   "metadata": {},
   "outputs": [],
   "source": [
    "n_clusters = 4\n",
    "cluster_kmedoids = KMedoids(n_clusters=n_clusters, random_state=0)\n",
    "cluster_kmedoids.fit(normalizar(X_t_onehot).values)\n",
    "df_predicted_train[\"kmedoids_df_onehot\"] = cluster_kmedoids.predict(np.ascontiguousarray(normalizar(X_onehot).values))\n",
    "df_predicted_test[\"kmedoids_df_onehot\"] = cluster_kmedoids.predict(np.ascontiguousarray(normalizar(X_t_onehot).values))"
   ]
  },
  {
   "cell_type": "markdown",
   "id": "334951ce",
   "metadata": {},
   "source": [
    "### 3.4.2 Segundo caso  (Dataset balanceado numérico con categóticas One-hot) "
   ]
  },
  {
   "cell_type": "code",
   "execution_count": null,
   "id": "35ab11d5",
   "metadata": {},
   "outputs": [],
   "source": [
    "comparativa_clusters_kmedoids(X_t_onehot_bal, max_clusters, \"- caso 2 - K-medoids\")"
   ]
  },
  {
   "cell_type": "code",
   "execution_count": null,
   "id": "262cff16",
   "metadata": {},
   "outputs": [],
   "source": [
    "cluster_kmedoids = KMedoids(n_clusters=n_clusters, random_state=0)\n",
    "cluster_kmedoids.fit(normalizar(X_t_onehot_bal).values)\n",
    "df_predicted_train[\"kmedoids_df_onehot_balanceado\"] = cluster_kmedoids.predict(np.ascontiguousarray(normalizar(X_onehot_bal).values))\n",
    "df_predicted_test[\"kmedoids_df_onehot_balanceado\"] = cluster_kmedoids.predict(np.ascontiguousarray(normalizar(X_t_onehot_bal).values))"
   ]
  },
  {
   "cell_type": "markdown",
   "id": "9d3c51fb",
   "metadata": {},
   "source": [
    "### 3.4.3 Tercer caso  (Dataset inicial numérico) "
   ]
  },
  {
   "cell_type": "code",
   "execution_count": null,
   "id": "1369cf6f",
   "metadata": {},
   "outputs": [],
   "source": [
    "comparativa_clusters_kmedoids(X_t_numerico, max_clusters, \"- caso 3 - K-medoids\")"
   ]
  },
  {
   "cell_type": "code",
   "execution_count": null,
   "id": "9ab731f1",
   "metadata": {},
   "outputs": [],
   "source": [
    "cluster_kmedoids = KMedoids(n_clusters=n_clusters, random_state=0)\n",
    "cluster_kmedoids.fit(normalizar(X_t_numerico).values)\n",
    "df_predicted_train[\"kmedoids_df_numerico\"] = cluster_kmedoids.predict(np.ascontiguousarray(normalizar(X_numerico).values))\n",
    "df_predicted_test[\"kmedoids_df_numerico\"] = cluster_kmedoids.predict(np.ascontiguousarray(normalizar(X_t_numerico).values))"
   ]
  },
  {
   "cell_type": "markdown",
   "id": "1f77319b",
   "metadata": {},
   "source": [
    "### 3.4.4 Cuarto caso  (Dataset balanceado numérico) "
   ]
  },
  {
   "cell_type": "code",
   "execution_count": null,
   "id": "90e167ea",
   "metadata": {
    "scrolled": true
   },
   "outputs": [],
   "source": [
    "comparativa_clusters_kmedoids(X_t_numerico_bal, max_clusters, \"Caso 4 - K-medoids\")"
   ]
  },
  {
   "cell_type": "code",
   "execution_count": null,
   "id": "cb7fb92d",
   "metadata": {},
   "outputs": [],
   "source": [
    "cluster_kmedoids = KMedoids(n_clusters=n_clusters, random_state=0)\n",
    "cluster_kmedoids.fit(normalizar(X_t_numerico_bal).values)\n",
    "df_predicted_train[\"kmedoids_df_numerico_balanceado\"] = cluster_kmedoids.predict(np.ascontiguousarray(normalizar(X_numerico_bal).values))\n",
    "df_predicted_test[\"kmedoids_df_numerico_balanceado\"] = cluster_kmedoids.predict(np.ascontiguousarray(normalizar(X_t_numerico_bal).values))"
   ]
  },
  {
   "cell_type": "markdown",
   "id": "1c821fc9",
   "metadata": {},
   "source": [
    "## 3.5 Agglomerative"
   ]
  },
  {
   "cell_type": "code",
   "execution_count": null,
   "id": "1737c187",
   "metadata": {},
   "outputs": [],
   "source": [
    "def comparativa_clusters_agglomerative(dataset, max_clusters, nombre_caso):\n",
    "    silhouette_arr = list()\n",
    "    calinski_harabasz_arr = list()\n",
    "    davies_bouldin_arr =list()\n",
    "    for i in range(2, max_clusters):\n",
    "        print(i)\n",
    "        modelo = AgglomerativeClustering(n_clusters=i, affinity='euclidean')\n",
    "        predicted = modelo.fit_predict(normalizar(dataset).values)\n",
    "        silhouette_arr.append([i, silhouette_score(dataset, predicted)])\n",
    "        calinski_harabasz_arr.append([i, calinski_harabasz_score(dataset, predicted)])\n",
    "        davies_bouldin_arr.append([i, davies_bouldin_score(dataset, predicted)])\n",
    "              \n",
    "\n",
    "    silhouete_arr = np.array(silhouette_arr)\n",
    "    calinski_harabasz_arr = np.array(calinski_harabasz_arr)\n",
    "    davies_bouldin_arr = np.array(davies_bouldin_arr)\n",
    "\n",
    "    plot_metrica(silhouete_arr, \"silhouette\", nombre_caso)\n",
    "    plot_metrica(calinski_harabasz_arr, \"calinski_harabasz\", nombre_caso)\n",
    "    plot_metrica(davies_bouldin_arr, \"davies_bouldin_score\", nombre_caso)\n",
    "\n",
    "    plot_metricas(np.array([silhouette_arr, calinski_harabasz_arr, davies_bouldin_arr]), \n",
    "                  [\"silhouette\", \"calinski_harabasz\", \"davies_bouldin_score\"], nombre_caso)"
   ]
  },
  {
   "cell_type": "markdown",
   "id": "486bbefe",
   "metadata": {},
   "source": [
    "### 3.5.1 Primer caso (Dataset inicial numérico con categóticas One-hot)  "
   ]
  },
  {
   "cell_type": "code",
   "execution_count": null,
   "id": "fd5d1951",
   "metadata": {
    "scrolled": true
   },
   "outputs": [],
   "source": [
    "comparativa_clusters_agglomerative(X_t_onehot, max_clusters, \"- caso 1 - Agglomerative\")"
   ]
  },
  {
   "cell_type": "code",
   "execution_count": null,
   "id": "db4abaaf",
   "metadata": {},
   "outputs": [],
   "source": [
    "n_clusters = 4\n",
    "cluster_agglomerative = AgglomerativeClustering(n_clusters=n_clusters, affinity='euclidean')\n",
    "#cluster_agglomerative.fit(normalizar(X_onehot).values)\n",
    "df_predicted_train[\"agglomerative_df_onehot\"] = cluster_agglomerative.fit_predict(np.ascontiguousarray(normalizar(X_onehot).values))\n",
    "df_predicted_test[\"agglomerative_df_onehot\"] = cluster_agglomerative.fit_predict(np.ascontiguousarray(normalizar(X_t_onehot).values))"
   ]
  },
  {
   "cell_type": "markdown",
   "id": "33445bcb",
   "metadata": {},
   "source": [
    "### 3.5.2 Segundo caso  (Dataset balanceado numérico con categóticas One-hot) "
   ]
  },
  {
   "cell_type": "code",
   "execution_count": null,
   "id": "68281782",
   "metadata": {},
   "outputs": [],
   "source": [
    "comparativa_clusters_agglomerative(X_t_onehot_bal, max_clusters, \"- caso 2 - Agglomerative\")"
   ]
  },
  {
   "cell_type": "code",
   "execution_count": null,
   "id": "a9e771b1",
   "metadata": {},
   "outputs": [],
   "source": [
    "\n",
    "cluster_agglomerative = AgglomerativeClustering(n_clusters=n_clusters, affinity='euclidean')\n",
    "#cluster_agglomerative.fit(X_onehot_bal.values)\n",
    "df_predicted_train[\"agglomerative_df_onehot_balanceado\"] = cluster_agglomerative.fit_predict(np.ascontiguousarray(normalizar(X_onehot_bal).values))\n",
    "df_predicted_test[\"agglomerative_df_onehot_balanceado\"] = cluster_agglomerative.fit_predict(np.ascontiguousarray(normalizar(X_t_onehot_bal).values))"
   ]
  },
  {
   "cell_type": "markdown",
   "id": "68572b1e",
   "metadata": {},
   "source": [
    "### 3.5.3 Tercer caso  (Dataset inicial numérico)  "
   ]
  },
  {
   "cell_type": "code",
   "execution_count": null,
   "id": "211df85b",
   "metadata": {},
   "outputs": [],
   "source": [
    "comparativa_clusters_agglomerative(X_t_numerico, max_clusters, \"- caso 3 - Agglomerative\")"
   ]
  },
  {
   "cell_type": "code",
   "execution_count": null,
   "id": "d630bf69",
   "metadata": {},
   "outputs": [],
   "source": [
    "cluster_agglomerative = AgglomerativeClustering(n_clusters=n_clusters, affinity='euclidean')\n",
    "#cluster_agglomerative.fit(X_numerico.values)\n",
    "df_predicted_train[\"agglomerative_df_numerico\"] = cluster_agglomerative.fit_predict(np.ascontiguousarray(normalizar(X_numerico).values))\n",
    "df_predicted_test[\"agglomerative_df_numerico\"] = cluster_agglomerative.fit_predict(np.ascontiguousarray(normalizar(X_t_numerico).values))"
   ]
  },
  {
   "cell_type": "markdown",
   "id": "808853dd",
   "metadata": {},
   "source": [
    "### 3.5.4 Cuarto caso  (Dataset balanceado numérico) "
   ]
  },
  {
   "cell_type": "code",
   "execution_count": null,
   "id": "a76c95c4",
   "metadata": {},
   "outputs": [],
   "source": [
    "comparativa_clusters_agglomerative(X_t_numerico_bal, max_clusters, \"- caso 4 - Agglomerative\")"
   ]
  },
  {
   "cell_type": "code",
   "execution_count": null,
   "id": "7e5486f5",
   "metadata": {},
   "outputs": [],
   "source": [
    "cluster_agglomerative = AgglomerativeClustering(n_clusters=n_clusters, affinity='euclidean')\n",
    "#cluster_agglomerative.fit(X_numerico_bal.values)\n",
    "df_predicted_train[\"agglomerative_df_numerico_balanceado\"] = cluster_agglomerative.fit_predict(np.ascontiguousarray(normalizar(X_numerico_bal).values))\n",
    "df_predicted_test[\"agglomerative_df_numerico_balanceado\"] = cluster_agglomerative.fit_predict(np.ascontiguousarray(normalizar(X_t_numerico_bal).values))"
   ]
  },
  {
   "cell_type": "code",
   "execution_count": null,
   "id": "b1ed68b2",
   "metadata": {},
   "outputs": [],
   "source": [
    "centroides_agglomerative = cluster_agglomerative.cluster_centers"
   ]
  },
  {
   "cell_type": "markdown",
   "id": "bc902e28",
   "metadata": {},
   "source": [
    "##  3.7 Birch"
   ]
  },
  {
   "cell_type": "code",
   "execution_count": null,
   "id": "773d59ea",
   "metadata": {},
   "outputs": [],
   "source": [
    "def comparativa_clusters_birch(dataset, max_clusters, nombre_caso):\n",
    "    silhouette_arr = list()\n",
    "    calinski_harabasz_arr = list()\n",
    "    davies_bouldin_arr =list()\n",
    "    for i in range(2, max_clusters):\n",
    "        print(i)\n",
    "        modelo = Birch(n_clusters=i)\n",
    "        predicted = modelo.fit_predict(np.ascontiguousarray(normalizar(dataset).values))\n",
    "        silhouette_arr.append([i, silhouette_score(dataset, predicted)])\n",
    "        calinski_harabasz_arr.append([i, calinski_harabasz_score(dataset, predicted)])\n",
    "        davies_bouldin_arr.append([i, davies_bouldin_score(dataset, predicted)])\n",
    "              \n",
    "    silhouete_arr = np.array(silhouette_arr)\n",
    "    calinski_harabasz_arr = np.array(calinski_harabasz_arr)\n",
    "    davies_bouldin_arr = np.array(davies_bouldin_arr)\n",
    "    plot_metrica(silhouete_arr, \"silhouette\", nombre_caso)\n",
    "    plot_metrica(calinski_harabasz_arr, \"calinski_harabasz\", nombre_caso)\n",
    "    plot_metrica(davies_bouldin_arr, \"davies_bouldin_score\", nombre_caso)\n",
    "\n",
    "    plot_metricas(np.array([silhouette_arr, calinski_harabasz_arr, davies_bouldin_arr]), \n",
    "                  [\"silhouette\", \"calinski_harabasz\", \"davies_bouldin_score\"], nombre_caso)"
   ]
  },
  {
   "cell_type": "markdown",
   "id": "2b5362b8",
   "metadata": {},
   "source": [
    "### 3.7.1 Primer caso (Dataset inicial numérico con categóticas One-hot) "
   ]
  },
  {
   "cell_type": "code",
   "execution_count": null,
   "id": "72dda683",
   "metadata": {
    "scrolled": true
   },
   "outputs": [],
   "source": [
    "comparativa_clusters_birch(X_t_onehot, max_clusters, \"- caso 1 - Birch\")"
   ]
  },
  {
   "cell_type": "code",
   "execution_count": null,
   "id": "00cea369",
   "metadata": {},
   "outputs": [],
   "source": [
    "n_clusters = 4\n",
    "cluster_birch = Birch(n_clusters=n_clusters)\n",
    "cluster_birch.fit(np.ascontiguousarray(normalizar(X_onehot).values))\n",
    "df_predicted_train[\"birch_df_onehot\"] = cluster_birch.predict(np.ascontiguousarray(normalizar(X_onehot).values))\n",
    "df_predicted_test[\"birch_df_onehot\"] = cluster_birch.predict(np.ascontiguousarray(normalizar(X_t_onehot).values))"
   ]
  },
  {
   "cell_type": "markdown",
   "id": "417518c6",
   "metadata": {},
   "source": [
    "### 3.7.2 Segundo caso  (Dataset balanceado numérico con categóticas One-hot) "
   ]
  },
  {
   "cell_type": "code",
   "execution_count": null,
   "id": "f0c99701",
   "metadata": {
    "scrolled": false
   },
   "outputs": [],
   "source": [
    "comparativa_clusters_birch(X_t_onehot_bal, max_clusters, \"- caso 2 - Birch\")"
   ]
  },
  {
   "cell_type": "code",
   "execution_count": null,
   "id": "4cb13ac9",
   "metadata": {},
   "outputs": [],
   "source": [
    "cluster_birch = Birch(n_clusters=n_clusters)\n",
    "cluster_birch.fit(np.ascontiguousarray(normalizar(X_onehot_bal).values))\n",
    "df_predicted_train[\"birch_df_onehot_balanceado\"] = cluster_birch.predict(np.ascontiguousarray(normalizar(X_onehot_bal).values))\n",
    "df_predicted_test[\"birch_df_onehot_balanceado\"] = cluster_birch.predict(np.ascontiguousarray(normalizar(X_t_onehot_bal).values))"
   ]
  },
  {
   "cell_type": "markdown",
   "id": "fda3d331",
   "metadata": {},
   "source": [
    "### 3.7.3 Tercer caso  (Dataset inicial numérico) "
   ]
  },
  {
   "cell_type": "code",
   "execution_count": null,
   "id": "22866cb1",
   "metadata": {},
   "outputs": [],
   "source": [
    "comparativa_clusters_birch(X_t_numerico, max_clusters, \"- caso 3 - Birch\")"
   ]
  },
  {
   "cell_type": "code",
   "execution_count": null,
   "id": "8f6c48bb",
   "metadata": {},
   "outputs": [],
   "source": [
    "cluster_birch = Birch(n_clusters=n_clusters)\n",
    "cluster_birch.fit(np.ascontiguousarray(normalizar(X_numerico).values))\n",
    "df_predicted_train[\"birch_df_numerico\"] = cluster_birch.predict(np.ascontiguousarray(normalizar(X_numerico).values))\n",
    "df_predicted_test[\"birch_df_numerico\"] = cluster_birch.predict(np.ascontiguousarray(normalizar(X_t_numerico).values))"
   ]
  },
  {
   "cell_type": "markdown",
   "id": "c22ec5e6",
   "metadata": {},
   "source": [
    "### 3.7.4 Cuarto caso  (Dataset balanceado numérico) "
   ]
  },
  {
   "cell_type": "code",
   "execution_count": null,
   "id": "ca166865",
   "metadata": {},
   "outputs": [],
   "source": [
    "comparativa_clusters_birch(X_t_numerico_bal, max_clusters, \"- caso 4 - Birch\")"
   ]
  },
  {
   "cell_type": "code",
   "execution_count": null,
   "id": "bb5acd44",
   "metadata": {},
   "outputs": [],
   "source": [
    "cluster_birch = Birch(n_clusters=n_clusters)\n",
    "cluster_birch.fit(np.ascontiguousarray(normalizar(X_numerico_bal).values))\n",
    "df_predicted_train[\"birch_df_numerico_balanceado\"] = cluster_birch.predict(np.ascontiguousarray(normalizar(X_numerico_bal).values))\n",
    "df_predicted_test[\"birch_df_numerico_balanceado\"] = cluster_birch.predict(np.ascontiguousarray(normalizar(X_t_numerico_bal).values))"
   ]
  },
  {
   "cell_type": "markdown",
   "id": "bc272a42",
   "metadata": {},
   "source": [
    "## 3.8  BisectingKMeans"
   ]
  },
  {
   "cell_type": "code",
   "execution_count": null,
   "id": "526900fb",
   "metadata": {},
   "outputs": [],
   "source": [
    "def comparativa_clusters_bisectingkmeans(dataset, max_clusters, nombre_caso):\n",
    "    inertias_arr = list()\n",
    "    silhouette_arr = list()\n",
    "    calinski_harabasz_arr = list()\n",
    "    davies_bouldin_arr =list()\n",
    "    for i in range(2, max_clusters):\n",
    "        print(i)\n",
    "        modelo = BisectingKMeans(n_clusters=i, random_state=0)\n",
    "        modelo.fit(dataset.values)\n",
    "        inertias_arr.append([i, modelo.inertia_])\n",
    "        predicted = modelo.fit_predict(normalizar(dataset).values)\n",
    "        silhouette_arr.append([i, silhouette_score(dataset, predicted)])\n",
    "        calinski_harabasz_arr.append([i, calinski_harabasz_score(dataset, predicted)])\n",
    "        davies_bouldin_arr.append([i, davies_bouldin_score(dataset, predicted)])\n",
    "              \n",
    "    inertias_arr = np.array(inertias_arr)\n",
    "    silhouete_arr = np.array(silhouette_arr)\n",
    "    calinski_harabasz_arr = np.array(calinski_harabasz_arr)\n",
    "    davies_bouldin_arr = np.array(davies_bouldin_arr)\n",
    "\n",
    "    plot_metrica(inertias_arr, \"inercia\", nombre_caso)\n",
    "    plot_metrica(silhouete_arr, \"silhouette\", nombre_caso)\n",
    "    plot_metrica(calinski_harabasz_arr, \"calinski_harabasz\", nombre_caso)\n",
    "    plot_metrica(davies_bouldin_arr, \"davies_bouldin_score\", nombre_caso)\n",
    "\n",
    "    plot_metricas(np.array([inertias_arr,silhouette_arr, calinski_harabasz_arr, davies_bouldin_arr]), \n",
    "                  [\"inercia\", \"silhouette\", \"calinski_harabasz\", \"davies_bouldin_score\"], nombre_caso)"
   ]
  },
  {
   "cell_type": "markdown",
   "id": "078026e8",
   "metadata": {},
   "source": [
    "### 3.8.1 Primer caso (Dataset inicial numérico con categóticas One-hot) "
   ]
  },
  {
   "cell_type": "code",
   "execution_count": null,
   "id": "b17ed283",
   "metadata": {
    "scrolled": false
   },
   "outputs": [],
   "source": [
    "comparativa_clusters_bisectingkmeans(X_onehot, max_clusters, \"- caso 1 - Bisecting K-means\")"
   ]
  },
  {
   "cell_type": "code",
   "execution_count": null,
   "id": "db52d9fd",
   "metadata": {},
   "outputs": [],
   "source": [
    "n_clusters = 4"
   ]
  },
  {
   "cell_type": "code",
   "execution_count": null,
   "id": "b1cce584",
   "metadata": {},
   "outputs": [],
   "source": [
    "cluster_bisectic = BisectingKMeans(n_clusters=n_clusters, random_state=0)\n",
    "cluster_bisectic.fit(np.ascontiguousarray(normalizar(X_onehot).values))\n",
    "df_predicted_train[\"bisecting_df_onehot\"] = cluster_bisectic.predict(np.ascontiguousarray(normalizar(X_onehot).values))\n",
    "df_predicted_test[\"bisecting_df_onehot\"] = cluster_bisectic.predict(np.ascontiguousarray(normalizar(X_t_onehot).values))"
   ]
  },
  {
   "cell_type": "markdown",
   "id": "4381cbaf",
   "metadata": {},
   "source": [
    "### 3.8.2 Segundo caso  (Dataset balanceado numérico con categóticas One-hot) "
   ]
  },
  {
   "cell_type": "code",
   "execution_count": null,
   "id": "c9ba4075",
   "metadata": {},
   "outputs": [],
   "source": [
    "comparativa_clusters_bisectingkmeans(X_onehot_bal, max_clusters, \"- caso 2 - Bisecting K-means\")"
   ]
  },
  {
   "cell_type": "code",
   "execution_count": null,
   "id": "18ab88b3",
   "metadata": {},
   "outputs": [],
   "source": [
    "cluster_bisectic = BisectingKMeans(n_clusters=n_clusters, random_state=0)\n",
    "cluster_bisectic.fit(np.ascontiguousarray(normalizar(X_onehot_bal).values))\n",
    "df_predicted_train[\"bisecting_df_onehot_balanceado\"] = cluster_bisectic.predict(np.ascontiguousarray(normalizar(X_onehot_bal).values))\n",
    "df_predicted_test[\"bisecting_df_onehot_balanceado\"] = cluster_bisectic.predict(np.ascontiguousarray(normalizar(X_t_onehot_bal).values))"
   ]
  },
  {
   "cell_type": "markdown",
   "id": "975997c5",
   "metadata": {},
   "source": [
    "### 3.8.3 Tercer caso  (Dataset inicial numérico) "
   ]
  },
  {
   "cell_type": "code",
   "execution_count": null,
   "id": "b2f5638c",
   "metadata": {},
   "outputs": [],
   "source": [
    "comparativa_clusters_bisectingkmeans(X_numerico, max_clusters, \"- caso 3 - Bisecting K-means\")"
   ]
  },
  {
   "cell_type": "code",
   "execution_count": null,
   "id": "8e43f881",
   "metadata": {},
   "outputs": [],
   "source": [
    "cluster_bisectic = BisectingKMeans(n_clusters=n_clusters, random_state=0)\n",
    "cluster_bisectic.fit(np.ascontiguousarray(normalizar(X_numerico).values))\n",
    "df_predicted_train[\"bisecting_df_numerico\"] = cluster_bisectic.predict(np.ascontiguousarray(normalizar(X_numerico).values))\n",
    "df_predicted_test[\"bisecting_df_numerico\"] = cluster_bisectic.predict(np.ascontiguousarray(normalizar(X_t_numerico).values))"
   ]
  },
  {
   "cell_type": "markdown",
   "id": "e9393b13",
   "metadata": {},
   "source": [
    "### 3.8.4 Cuarto caso  (Dataset balanceado numérico) "
   ]
  },
  {
   "cell_type": "code",
   "execution_count": null,
   "id": "aedf753f",
   "metadata": {
    "scrolled": true
   },
   "outputs": [],
   "source": [
    "comparativa_clusters_bisectingkmeans(X_numerico_bal, max_clusters, \"- caso 4 - Bisecting K-means\")"
   ]
  },
  {
   "cell_type": "code",
   "execution_count": null,
   "id": "6c8a6042",
   "metadata": {},
   "outputs": [],
   "source": [
    "cluster_bisectic = BisectingKMeans(n_clusters=n_clusters, random_state=0)\n",
    "cluster_bisectic.fit(np.ascontiguousarray(normalizar(X_numerico_bal).values))\n",
    "df_predicted_train[\"bisecting_df_numerico_balanceado\"] = cluster_bisectic.predict(np.ascontiguousarray(normalizar(X_numerico_bal).values))\n",
    "df_predicted_test[\"bisecting_df_numerico_balanceado\"] = cluster_bisectic.predict(np.ascontiguousarray(normalizar(X_t_numerico_bal).values))"
   ]
  },
  {
   "cell_type": "code",
   "execution_count": null,
   "id": "fcf57acb",
   "metadata": {},
   "outputs": [],
   "source": [
    "centroides_bisecting = cluster_bisectic.cluster_centers_"
   ]
  },
  {
   "cell_type": "markdown",
   "id": "f73b6bec",
   "metadata": {},
   "source": [
    "### Guardamos los resultados obtenidos "
   ]
  },
  {
   "cell_type": "code",
   "execution_count": null,
   "id": "4b61a090",
   "metadata": {},
   "outputs": [],
   "source": [
    "df_predicted_train.to_csv(\"dataset_diabetes/df_predicted_train.csv\", index = False)\n",
    "df_predicted_test.to_csv(\"dataset_diabetes/df_predicted_test.csv\", index = False)"
   ]
  },
  {
   "cell_type": "code",
   "execution_count": null,
   "id": "fc99606a",
   "metadata": {},
   "outputs": [],
   "source": [
    "df_predicted_train = pd.read_csv(\"dataset_diabetes/df_predicted_train.csv\")\n",
    "df_predicted_test = pd.read_csv(\"dataset_diabetes/df_predicted_test.csv\")"
   ]
  },
  {
   "cell_type": "markdown",
   "id": "26d75a16",
   "metadata": {},
   "source": [
    "# 4. Análisis de resultados"
   ]
  },
  {
   "cell_type": "code",
   "execution_count": null,
   "id": "c4a3c565",
   "metadata": {},
   "outputs": [],
   "source": [
    "def mostrar_plot(columna_1, columna_2, data_label, X_data, name):\n",
    "\n",
    "    rcParams['figure.figsize'] = 10, 10\n",
    "    plt.rcParams.update({'font.size': 14})\n",
    "        \n",
    "    plt.figure()\n",
    "    plt.title(name)\n",
    "    plt.scatter(X_data[columna_1], X_data[columna_2], c=data_label)\n",
    "    plt.xlabel(columna_1)\n",
    "    plt.ylabel(columna_2)\n",
    "    plt.grid(visible=True)\n",
    "    #plt.savefig(\"plots/\"+columna_1+\"_\"+columna_2+\"_\"+name)"
   ]
  },
  {
   "cell_type": "code",
   "execution_count": null,
   "id": "6f8ad2e1",
   "metadata": {},
   "outputs": [],
   "source": [
    "columnas_df_onehot = []\n",
    "columnas_df_onehot_bal = []\n",
    "columnas_df_numerico = []\n",
    "columnas_df_numerico_bal = []\n",
    "\n",
    "for col in df_predicted_test.columns:\n",
    "    if \"df_onehot_bal\" in col:\n",
    "        columnas_df_onehot_bal.append(col)\n",
    "    elif \"df_onehot\" in col:\n",
    "        columnas_df_onehot.append(col)\n",
    "    elif \"df_numerico_bal\" in col:\n",
    "        columnas_df_numerico_bal.append(col)\n",
    "    else:\n",
    "        columnas_df_numerico.append(col)"
   ]
  },
  {
   "cell_type": "markdown",
   "id": "9c37f25f",
   "metadata": {},
   "source": [
    "## 4.3 Análisis de métricas "
   ]
  },
  {
   "cell_type": "code",
   "execution_count": null,
   "id": "7a5df35e",
   "metadata": {},
   "outputs": [],
   "source": [
    "def print_metricas(nombre_caso, metricas):\n",
    "    print(\"\\n===============================================================\")\n",
    "    print(nombre_caso + \" kmeans: \" + str(round(metricas[0], 2)))\n",
    "    print(nombre_caso + \" SOM: \" + str(round(metricas[1], 2)))\n",
    "    print(nombre_caso + \" kmedoids: \" + str(round(metricas[2], 2)))\n",
    "    print(nombre_caso + \" agglomerative: \" + str(round(metricas[3], 2)))\n",
    "    print(nombre_caso + \" birch: \" + str(round(metricas[4], 2)))\n",
    "    print(nombre_caso + \" bisecting: \" + str(round(metricas[5], 2)))\n",
    "    print(\"===============================================================\")"
   ]
  },
  {
   "cell_type": "code",
   "execution_count": null,
   "id": "e4f69ab1",
   "metadata": {},
   "outputs": [],
   "source": [
    "def obtener_metricas(dataset, predicted, nombre_caso):\n",
    "\n",
    "    metricas = {}\n",
    "    metricas_silhouette = []\n",
    "    metricas_calinski_harabasz = []\n",
    "    metricas_davies_bouldin = []\n",
    "\n",
    "    for col in predicted.columns:\n",
    "        metricas_silhouette.append(silhouette_score(dataset, predicted[col]))\n",
    "        metricas_calinski_harabasz.append(calinski_harabasz_score(dataset, predicted[col]))\n",
    "        metricas_davies_bouldin.append(davies_bouldin_score(dataset, predicted[col]))\n",
    "    \n",
    "    metricas[\"silhouette\"] = metricas_silhouette\n",
    "    metricas[\"calinski_harabasz\"] = metricas_calinski_harabasz\n",
    "    metricas[\"davies_bouldin\"] = metricas_davies_bouldin\n",
    "    \n",
    "    print_metricas(nombre_caso + \" silhouette\", metricas_silhouette)\n",
    "    print_metricas(nombre_caso + \" calinski_harabasz\", metricas_calinski_harabasz)\n",
    "    print_metricas(nombre_caso + \" davies_bouldin\", metricas_davies_bouldin)"
   ]
  },
  {
   "cell_type": "code",
   "execution_count": null,
   "id": "75b3e971",
   "metadata": {},
   "outputs": [],
   "source": [
    "obtener_metricas(X_t_onehot, df_predicted_test[columnas_df_onehot], \"caso 1\")"
   ]
  },
  {
   "cell_type": "code",
   "execution_count": null,
   "id": "49bbb7fe",
   "metadata": {},
   "outputs": [],
   "source": [
    "obtener_metricas(X_t_onehot_bal, df_predicted_test[columnas_df_onehot_bal], \"caso 2\")"
   ]
  },
  {
   "cell_type": "code",
   "execution_count": null,
   "id": "84f40f66",
   "metadata": {},
   "outputs": [],
   "source": [
    "obtener_metricas(X_t_numerico, df_predicted_test[columnas_df_numerico], \"caso 3\")"
   ]
  },
  {
   "cell_type": "code",
   "execution_count": null,
   "id": "4b1c1f40",
   "metadata": {},
   "outputs": [],
   "source": [
    "obtener_metricas(X_t_numerico_bal, df_predicted_test[columnas_df_numerico_bal], \"caso 4\")"
   ]
  },
  {
   "cell_type": "code",
   "execution_count": null,
   "id": "ceceb15d",
   "metadata": {},
   "outputs": [],
   "source": [
    "obtener_metricas(X_onehot, df_predicted_train[columnas_df_onehot], \"caso 1\")"
   ]
  },
  {
   "cell_type": "code",
   "execution_count": null,
   "id": "9c0823d9",
   "metadata": {
    "scrolled": true
   },
   "outputs": [],
   "source": [
    "obtener_metricas(X_onehot_bal, df_predicted_train[columnas_df_onehot_bal], \"caso 2\")"
   ]
  },
  {
   "cell_type": "code",
   "execution_count": null,
   "id": "a10e0515",
   "metadata": {},
   "outputs": [],
   "source": [
    "obtener_metricas(X_numerico, df_predicted_train[columnas_df_numerico], \"caso 3\")"
   ]
  },
  {
   "cell_type": "code",
   "execution_count": null,
   "id": "4a3fb9b8",
   "metadata": {},
   "outputs": [],
   "source": [
    "obtener_metricas(X_numerico_bal, df_predicted_train[columnas_df_numerico_bal], \"caso 4\")"
   ]
  },
  {
   "cell_type": "markdown",
   "id": "00c95118",
   "metadata": {},
   "source": [
    "## 4.1 Dendrogramas "
   ]
  },
  {
   "cell_type": "code",
   "execution_count": null,
   "id": "263b6e20",
   "metadata": {},
   "outputs": [],
   "source": [
    "def mostrar_dendrograma(dataset, nombre):\n",
    "    dendrogram = sch.dendrogram(sch.linkage(dataset, method = 'ward'), p=3, truncate_mode = 'level', no_labels= True)\n",
    "    rcParams['figure.figsize'] = 40, 15\n",
    "    plt.rcParams.update({'font.size': 30})\n",
    "    plt.title('Dendrograma ' + nombre)\n",
    "    plt.xlabel('Registros')\n",
    "    plt.ylabel('Distancias Euclidianas')\n",
    "    plt.savefig(\"plots/metricas/dendrograma_\" +nombre)\n",
    "    plt.show()"
   ]
  },
  {
   "cell_type": "code",
   "execution_count": null,
   "id": "79986fff",
   "metadata": {},
   "outputs": [],
   "source": [
    "mostrar_dendrograma(normalizar(X_t_onehot), \"df_onehot\")"
   ]
  },
  {
   "cell_type": "code",
   "execution_count": null,
   "id": "044ac56b",
   "metadata": {},
   "outputs": [],
   "source": [
    "mostrar_dendrograma(normalizar(X_t_onehot_bal), \"df_onehot_balanceado\")"
   ]
  },
  {
   "cell_type": "code",
   "execution_count": null,
   "id": "5815b43a",
   "metadata": {},
   "outputs": [],
   "source": [
    "mostrar_dendrograma(normalizar(X_t_numerico), \"df_numerico\")"
   ]
  },
  {
   "cell_type": "code",
   "execution_count": null,
   "id": "1a0ef7cf",
   "metadata": {},
   "outputs": [],
   "source": [
    "mostrar_dendrograma(normalizar(X_t_numerico_bal), \"df_numerico_balanceado\")"
   ]
  },
  {
   "cell_type": "markdown",
   "id": "eb281038",
   "metadata": {},
   "source": [
    "## 4.2 Gráficas clústeres algoritmos "
   ]
  },
  {
   "cell_type": "code",
   "execution_count": null,
   "id": "7b9a4583",
   "metadata": {},
   "outputs": [],
   "source": [
    "def mostrar_plot_centroides(columna_1, columna_2, i1, i2,data_label, X_data, name, centroides):\n",
    "\n",
    "    colors = ['orange', 'lime', 'red', 'black']\n",
    "    rcParams['figure.figsize'] = 10, 10\n",
    "    plt.rcParams.update({'font.size': 14})\n",
    "        \n",
    "    plt.figure()\n",
    "    plt.title(name)\n",
    "    plt.scatter(X_data[columna_1], X_data[columna_2], c=data_label)\n",
    "    plt.scatter(centroides[:,i1], centroides[:,i2], marker='*', s=150, edgecolor='black', c = colors)\n",
    "    plt.xlabel(columna_1)\n",
    "    plt.ylabel(columna_2)\n",
    "    plt.grid(visible=True)\n",
    "    plt.savefig(\"plots/medoides/\"+columna_1+\"_\"+columna_2+\"_\"+name)\n",
    "    plt.show()\n",
    "   "
   ]
  },
  {
   "cell_type": "code",
   "execution_count": null,
   "id": "852c36ec",
   "metadata": {
    "scrolled": false
   },
   "outputs": [],
   "source": [
    "columnas = X_t_numerico_bal.columns\n",
    "cols = []\n",
    "for i in range(len(columnas)):\n",
    "    for j in range(len(columnas)):\n",
    "        if(i != j and columnas[j] not in cols):\n",
    "            mostrar_plot_centroides(columnas[i], columnas[j], i, j, \n",
    "                                    df_predicted_test[\"bisecting_df_numerico_balanceado\"], normalizar(X_t_numerico_bal), \"bisecting - caso 4\", centroides_bisecting)\n",
    "            cols.append(columnas[i])"
   ]
  },
  {
   "cell_type": "code",
   "execution_count": null,
   "id": "6373a6c0",
   "metadata": {},
   "outputs": [],
   "source": [
    "def mostrar_plots_cluster(df_predicted, X_data, nombre_caso):\n",
    "    columns = X_data.columns\n",
    "    cols = 2\n",
    "    rows = round(len(df_predicted.columns)/cols)\n",
    "    columnas_mostradas = []\n",
    "    for column in range(len(columns)):\n",
    "        for column2 in range(len(columns)):\n",
    "            if column != column2 and column2 not in columnas_mostradas:\n",
    "                fig, axs = plt.subplots(rows,cols,figsize = (45,20*rows))\n",
    "                plt.rcParams.update({'font.size': 30})\n",
    "                i = 0\n",
    "                j = 0\n",
    "                for algoritmo in df_predicted.columns:    \n",
    "                    axs[i,j].set(title= algoritmo)\n",
    "                    axs[i,j].scatter(X_data[columns[column]], X_data[columns[column2]], s=400, c=df_predicted[algoritmo], alpha=0.2)\n",
    "                    axs[i,j].set(xlabel= columns[column])\n",
    "                    axs[i,j].set(ylabel = columns[column2])\n",
    "                    \n",
    "                    axs[i, j].grid()\n",
    "                    j += 1\n",
    "                    if(j == cols):\n",
    "                        j = 0\n",
    "                        i+=1\n",
    "\n",
    "                plt.savefig(\"plots/clusteres/\"+columns[column]+\"_\"+columns[column2]+\"_\"+nombre_caso)\n",
    "                plt.show()\n",
    "        columnas_mostradas.append(column)\n",
    "\n",
    "                #plt.close()"
   ]
  },
  {
   "cell_type": "code",
   "execution_count": null,
   "id": "747543e4",
   "metadata": {},
   "outputs": [],
   "source": [
    "def grafico_barras_unico_clusters(columna, df, etiquetas):\n",
    "    clusters = etiquetas.unique()\n",
    "    print(clusters)\n",
    "    fig, ax = plt.subplots(len(clusters), figsize = (9,20))\n",
    "    plt.rcParams.update({'font.size': 15})\n",
    "    for cluster in clusters:\n",
    "        ax[cluster].hist(df[df[\"label\"] == cluster][columna],bins=10,edgecolor='black')\n",
    "        ax[cluster].set(title = columna+\" cluster \" + str(cluster))\n",
    "        ax[cluster].grid()\n",
    "        ax[cluster].plot()\n",
    "    fig.tight_layout()\n",
    "    #plt.savefig(\"plots/\"+\"hist_\"+columna+\"_clusters\")"
   ]
  },
  {
   "cell_type": "code",
   "execution_count": null,
   "id": "054e810c",
   "metadata": {},
   "outputs": [],
   "source": [
    "mostrar_plots_cluster(df_predicted_test[columnas_df_onehot], X_t_onehot, \"caso_1\")"
   ]
  },
  {
   "cell_type": "code",
   "execution_count": null,
   "id": "5eeab2fd",
   "metadata": {
    "scrolled": true
   },
   "outputs": [],
   "source": [
    "mostrar_plots_cluster(df_predicted_test[columnas_df_onehot_bal], X_t_onehot_bal, \"caso_2\")"
   ]
  },
  {
   "cell_type": "code",
   "execution_count": null,
   "id": "766cc6a9",
   "metadata": {
    "scrolled": true
   },
   "outputs": [],
   "source": [
    "mostrar_plots_cluster(df_predicted_test[columnas_df_numerico], X_t_numerico, \"caso_3\")"
   ]
  },
  {
   "cell_type": "code",
   "execution_count": null,
   "id": "cd96a2a1",
   "metadata": {
    "scrolled": true
   },
   "outputs": [],
   "source": [
    "mostrar_plots_cluster(df_predicted_test[columnas_df_numerico_bal], Y_t_numerico_bal, \"caso_4\")"
   ]
  },
  {
   "cell_type": "code",
   "execution_count": null,
   "id": "a8932079",
   "metadata": {},
   "outputs": [],
   "source": [
    "mostrar_plots_cluster(df_predicted_test[[\"agglomerative_df_numerico_balanceado\", \"bisecting_df_numerico_balanceado\", \"kmedoids_df_numerico_balanceado\"]], Y_t_numerico_bal, \"caso_4\")"
   ]
  },
  {
   "cell_type": "code",
   "execution_count": null,
   "id": "c658126e",
   "metadata": {
    "scrolled": false
   },
   "outputs": [],
   "source": [
    "mostrar_plot(\"num_lab_procedures\", \"num_medications\", df_predicted_train[\"kmeans\"], X_train, \"kmeans\")"
   ]
  },
  {
   "cell_type": "code",
   "execution_count": null,
   "id": "df11063e",
   "metadata": {},
   "outputs": [],
   "source": [
    "mostrar_plot(\"num_lab_procedures\", \"num_medications\", df_predicted_train[\"som\"], X_train, \"som\")"
   ]
  },
  {
   "cell_type": "code",
   "execution_count": null,
   "id": "6eae1467",
   "metadata": {},
   "outputs": [],
   "source": [
    "mostrar_plot(\"num_lab_procedures\", \"num_medications\", Y_train, X_train, \"kmeans\")"
   ]
  },
  {
   "cell_type": "markdown",
   "id": "a0c398c0",
   "metadata": {},
   "source": [
    "### 4.3.2 Grafico de barras clústeres "
   ]
  },
  {
   "cell_type": "code",
   "execution_count": null,
   "id": "51fe5621",
   "metadata": {},
   "outputs": [],
   "source": [
    "def grafico_barras_conjunto(df, nombre):\n",
    "    columnas = df.columns\n",
    "    cols=3\n",
    "    rows=round(len(columnas)/cols)\n",
    "    plt.rcParams.update({'font.size': 15})\n",
    "    fig, axs = plt.subplots(rows,cols,figsize = (cols*8,rows*8))\n",
    "    for i in range(rows):\n",
    "        for j in range(cols):\n",
    "            n = cols*i+j\n",
    "            if n<len(df.columns):\n",
    "                axs[i,j].hist(df[columnas[n]],bins=10,edgecolor='black')\n",
    "                axs[i,j].set(title = columnas[n])\n",
    "                axs[i,j].tick_params(labelrotation=45)  \n",
    "                plt.plot()\n",
    "            else:\n",
    "                axs[i,j].plot()\n",
    "            \n",
    "    fig.tight_layout()\n",
    "    plt.savefig(\"plots/clusteres/histograma_clusteres\"+nombre)\n",
    "    plt.show()"
   ]
  },
  {
   "cell_type": "code",
   "execution_count": null,
   "id": "52c0669e",
   "metadata": {},
   "outputs": [],
   "source": [
    "def mostrar_grafico_barras_clusteres(df, predicted, name):\n",
    "    df[\"predicted\"] = predicted   \n",
    "    clusteres = np.sort(df[\"predicted\"].unique())\n",
    "    for cluster in clusteres:\n",
    "        print(\"Histograma para el cluster \"+str(cluster))\n",
    "        \n",
    "        df_buff = df[df[\"predicted\"] == cluster]\n",
    "        grafico_barras_conjunto(df_buff.drop(columns=['predicted']), name+\"_cluster_\"+str(cluster))"
   ]
  },
  {
   "cell_type": "code",
   "execution_count": null,
   "id": "cc1b5caf",
   "metadata": {
    "scrolled": true
   },
   "outputs": [],
   "source": [
    "mostrar_grafico_barras_clusteres( Y_numerico_bal, df_predicted_train[\"bisecting_df_numerico_balanceado\"], 'bisecting_df_numerico_balanceado')"
   ]
  },
  {
   "cell_type": "code",
   "execution_count": null,
   "id": "bd57a2e6",
   "metadata": {},
   "outputs": [],
   "source": [
    "mostrar_grafico_barras_clusteres( Y_numerico_bal, df_predicted_train[\"agglomerative_df_numerico_balanceado\"], \"agglomerative_df_numerico_balanceado\")"
   ]
  },
  {
   "cell_type": "markdown",
   "id": "bc4f8b5f",
   "metadata": {},
   "source": [
    "## 4.4 Descripción breve de cada caso "
   ]
  },
  {
   "cell_type": "code",
   "execution_count": null,
   "id": "a7380baf",
   "metadata": {},
   "outputs": [],
   "source": [
    "def mostrar_descripcion_clusteres(dataframe, predicted, nombre_caso):\n",
    "    \n",
    "    df_conjunto = dataframe.copy(deep=True)\n",
    "    \n",
    "    for col in predicted.columns:\n",
    "        df_conjunto[col] = predicted[col]\n",
    "        \n",
    "        for cluster in predicted[col].unique():\n",
    "            print(str(cluster)+\"_\"+col+\"_\"+nombre_caso)\n",
    "            df_descripcion = df_conjunto[df_conjunto[col] == cluster]\n",
    "            print(df_descripcion.describe())\n",
    "            print(\"\\n=====================================================================\\n\")\n",
    "            ##dfi.export(df_descripcion.drop(col, axis=1).describe(), \"plots/descipcion_clusteres/\"+str(cluster)+\"_\"+col+\"_\"+nombre_caso+\".png\")\n",
    "            \n",
    "        df_conjunto.drop(col, axis=1, inplace=True)"
   ]
  },
  {
   "cell_type": "code",
   "execution_count": null,
   "id": "545a7f2e",
   "metadata": {},
   "outputs": [],
   "source": [
    "def obtener_descripcion_comparativas(dataframe, predicted, col, nombre_caso):\n",
    "    df_conjunto = dataframe.copy(deep=True)\n",
    "    dic_grupos = {}\n",
    "    \n",
    "    for c in dataframe.columns:\n",
    "        dic_grupos[c] = pd.DataFrame()\n",
    "        \n",
    "    df_conjunto[col] = predicted[col]\n",
    "    for cluster in predicted[col].unique():\n",
    "        df_descripcion = df_conjunto[df_conjunto[col] == cluster]\n",
    "        for c in df_descripcion.describe().columns[:-1]:\n",
    "            dic_grupos[c][str(c)+\"_\"+str(cluster+1)] = df_descripcion.describe()[c] \n",
    "\n",
    "    for c in dataframe.columns:\n",
    "        dic_grupos[c] = dic_grupos[c].reindex(sorted(dic_grupos[c].columns), axis=1)\n",
    "        print(dic_grupos[c]) \n",
    "        #dfi.export(dic_grupos[c], \"plots/descipcion_clusteres/\"+c+\"_\"+nombre_caso+\".png\")\n"
   ]
  },
  {
   "cell_type": "code",
   "execution_count": null,
   "id": "0cc6a42e",
   "metadata": {
    "scrolled": true
   },
   "outputs": [],
   "source": [
    "mostrar_descripcion_clusteres(X_t_numerico_bal, df_predicted_test[['agglomerative_df_numerico_balanceado','bisecting_df_numerico_balanceado']],\"caso 4\")"
   ]
  },
  {
   "cell_type": "code",
   "execution_count": null,
   "id": "1a072071",
   "metadata": {
    "scrolled": true
   },
   "outputs": [],
   "source": [
    "obtener_descripcion_comparativas(X_t_numerico_bal, df_predicted_test, 'agglomerative_df_numerico_balanceado',\"caso 4_agglomerative\")"
   ]
  },
  {
   "cell_type": "code",
   "execution_count": null,
   "id": "ac5252c5",
   "metadata": {},
   "outputs": [],
   "source": [
    "\"\"\"\n",
    "Enlaces de interés:\n",
    "\n",
    "https://scikit-learn-extra.readthedocs.io/en/stable/auto_examples/cluster/plot_clustering.html#sphx-glr-auto-examples-cluster-plot-clustering-py\n",
    "https://scikit-learn.org/stable/modules/clustering.html\n",
    "https://colab.research.google.com/github/jumafernandez/BDM/blob/master/Guias/Guia_Clustering.ipynb#scrollTo=zBwQLD4aVXoJ\n",
    "https://sci-hub.hkvisa.net/10.1007/s13755-018-0054-0\n",
    "https://www.sngular.com/es/data-science-crisp-dm-metodologia/\n",
    "https://scikit-learn.org/stable/modules/generated/sklearn.cluster.KMeans.html\n",
    "https://som-learn.readthedocs.io/en/latest/somlearn.html\n",
    "https://scikit-learn-extra.readthedocs.io/en/stable/generated/sklearn_extra.cluster.KMedoids.html\n",
    "https://scikit-learn.org/stable/modules/generated/sklearn.cluster.AgglomerativeClustering.html\n",
    "https://jarroba.com/seleccion-del-numero-optimo-clusters/\n",
    "https://scikit-learn.org/stable/modules/generated/sklearn.cluster.Birch.html\n",
    "https://scikit-learn.org/stable/auto_examples/cluster/plot_bisect_kmeans.html#sphx-glr-auto-examples-cluster-plot-bisect-kmeans-py\n",
    "https://scikit-learn.org/stable/modules/model_evaluation.html\n",
    "https://scikit-learn.org/stable/modules/classes.html#module-sklearn.metrics\n",
    "https://scikit-learn.org/stable/modules/generated/sklearn.metrics.davies_bouldin_score.html\n",
    "https://scikit-learn.org/stable/modules/generated/sklearn.metrics.calinski_harabasz_score.html#sklearn.metrics.calinski_harabasz_score\n",
    "https://stackabuse.com/one-hot-encoding-in-python-with-pandas-and-scikit-learn/\n",
    "https://scikit-learn.org/stable/modules/generated/sklearn.preprocessing.OneHotEncoder.html\n",
    "\"\"\""
   ]
  }
 ],
 "metadata": {
  "kernelspec": {
   "display_name": "Python 3 (ipykernel)",
   "language": "python",
   "name": "python3"
  },
  "language_info": {
   "codemirror_mode": {
    "name": "ipython",
    "version": 3
   },
   "file_extension": ".py",
   "mimetype": "text/x-python",
   "name": "python",
   "nbconvert_exporter": "python",
   "pygments_lexer": "ipython3",
   "version": "3.9.7"
  }
 },
 "nbformat": 4,
 "nbformat_minor": 5
}
